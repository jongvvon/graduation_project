{
 "cells": [
  {
   "cell_type": "code",
   "execution_count": 1,
   "metadata": {},
   "outputs": [],
   "source": [
    "import urllib.request\n",
    "from urllib.request import (urlopen, urlparse, urlretrieve)\n",
    "\n",
    "from bs4 import BeautifulSoup\n",
    "\n",
    "from selenium import webdriver\n",
    "from selenium.webdriver.common.keys import Keys\n",
    "from selenium.webdriver.common.by import By\n",
    "import pandas as pd\n",
    "\n",
    "import time\n",
    "import os"
   ]
  },
  {
   "cell_type": "code",
   "execution_count": 2,
   "metadata": {},
   "outputs": [],
   "source": [
    "chrome_path = '/home/jwjang/chromedriver'\n",
    "base_url = \"https://www.google.co.kr/imghp\""
   ]
  },
  {
   "cell_type": "code",
   "execution_count": 3,
   "metadata": {},
   "outputs": [
    {
     "name": "stderr",
     "output_type": "stream",
     "text": [
      "/tmp/ipykernel_12133/3548743907.py:7: DeprecationWarning: executable_path has been deprecated, please pass in a Service object\n",
      "  driver = webdriver.Chrome(chrome_path, chrome_options=options)\n",
      "/tmp/ipykernel_12133/3548743907.py:7: DeprecationWarning: use options instead of chrome_options\n",
      "  driver = webdriver.Chrome(chrome_path, chrome_options=options)\n"
     ]
    }
   ],
   "source": [
    "options = webdriver.ChromeOptions()\n",
    "options.add_argument('headless')\n",
    "options.add_argument('window-size=1920x1080')\n",
    "options.add_argument(\"disable-gpu\")\n",
    "# 혹은 options.add_argument(\"--disable-gpu\")\n",
    "\n",
    "driver = webdriver.Chrome(chrome_path, chrome_options=options)"
   ]
  },
  {
   "cell_type": "code",
   "execution_count": 4,
   "metadata": {},
   "outputs": [
    {
     "name": "stdout",
     "output_type": "stream",
     "text": [
      "전체 다운로드한 이미지 개수 : 589\n",
      "완료\n"
     ]
    }
   ],
   "source": [
    "def selenium_scroll_option() :\n",
    "    SCROLL_PAUSE_SEC = 1\n",
    "\n",
    "    # 스크롤 높이 가져옴\n",
    "    last_height = driver.execute_script(\n",
    "        \"return document.body.scrollHeight\")\n",
    "\n",
    "    while True :\n",
    "        # 끝까지 스크롤 다운\n",
    "        driver.execute_script(\n",
    "            \"window.scrollTo(0, document.body.scrollHeight);\")\n",
    "        time.sleep(SCROLL_PAUSE_SEC)\n",
    "        # 스크롤 다운 후 스크롤 높이 다시 가져옴\n",
    "        new_height = driver.execute_script(\n",
    "            \"return document.body.scrollHeight\")\n",
    "        if new_height == last_height :\n",
    "            break\n",
    "        last_height = new_height\n",
    "\n",
    "\n",
    "item_list = ['코카콜라 캔']\n",
    "for i in range(len(item_list)):\n",
    "    image_name = item_list[i]\n",
    "    # driver = webdriver.Chrome(chrome_path)\n",
    "    driver.get(\"http://www.google.co.kr/imghp?hl=ko\")\n",
    "    browser = driver.find_element(By.NAME, 'q')\n",
    "    browser.send_keys(item_list[i])\n",
    "    browser.send_keys(Keys.RETURN)\n",
    "\n",
    "    selenium_scroll_option()# 스크롤 하여 이미지 확보\n",
    "    driver.find_element(By.XPATH,\n",
    "        '//*[@id=\"islmp\"]/div/div/div/div[1]/div[2]/div[2]/input').click()\n",
    "    selenium_scroll_option()\n",
    "\n",
    "    # 이미지 저장 src 요소를 리스트업 해서 이미지 url 저장\n",
    "    image = driver.find_elements(By.CSS_SELECTOR, \".rg_i.Q4LuWd\")\n",
    "    # 클래스 네임에서 공백은 . 을 찍어줌\n",
    "    # print(image)\n",
    "    image_url = []\n",
    "    for i in image:\n",
    "        if i.get_attribute(\"src\") != None :\n",
    "            image_url.append(i.get_attribute(\"src\"))\n",
    "        else :\n",
    "            image_url.append(i.get_attribute(\"data-src\"))\n",
    "\n",
    "    #전체 이미지 개수\n",
    "    print(f\"전체 다운로드한 이미지 개수 : {len(image_url)}\")\n",
    "    image_url = pd.DataFrame(image_url)[0].unique()\n",
    "\n",
    "    for i in range(len(item_list)):\n",
    "        # 해당하는 파일에 이미지 다운로드\n",
    "        os.makedirs(f\"./image{i}\", exist_ok=True)\n",
    "        new_img = f\"./image{i}/\"\n",
    "        if image_name == f'{item_list[i]}':\n",
    "            for t, url in enumerate(image_url, 0):\n",
    "                urlretrieve(url, new_img + image_name + \"_\" + str(t) + \".png\")\n",
    "            driver.close()\n",
    "    print(\"완료\")"
   ]
  }
 ],
 "metadata": {
  "kernelspec": {
   "display_name": "Python 3.9.12 ('tf28')",
   "language": "python",
   "name": "python3"
  },
  "language_info": {
   "codemirror_mode": {
    "name": "ipython",
    "version": 3
   },
   "file_extension": ".py",
   "mimetype": "text/x-python",
   "name": "python",
   "nbconvert_exporter": "python",
   "pygments_lexer": "ipython3",
   "version": "3.9.12"
  },
  "orig_nbformat": 4,
  "vscode": {
   "interpreter": {
    "hash": "7487eb26713c20d4478a0ad439a8d1686a66f155cf78333d4446d2a5054d68b6"
   }
  }
 },
 "nbformat": 4,
 "nbformat_minor": 2
}
