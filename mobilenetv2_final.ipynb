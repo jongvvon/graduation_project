{
 "cells": [
  {
   "cell_type": "code",
   "execution_count": 1,
   "metadata": {},
   "outputs": [],
   "source": [
    "#error message 제거\n",
    "import os; os.environ['TF_CPP_MIN_LOG_LEVEL'] = '1'"
   ]
  },
  {
   "cell_type": "code",
   "execution_count": 2,
   "metadata": {},
   "outputs": [],
   "source": [
    "IMAGE_PATH = '/home/jwjang/project_tf28/resize_image/'"
   ]
  },
  {
   "cell_type": "code",
   "execution_count": 3,
   "metadata": {},
   "outputs": [
    {
     "name": "stdout",
     "output_type": "stream",
     "text": [
      "Python version: 3.9.12\n",
      "Tensorflow version: 2.8.0\n",
      "Keras version: 2.8.0\n"
     ]
    }
   ],
   "source": [
    "import tensorflow as tf\n",
    "import matplotlib.pyplot as plt\n",
    "import numpy as np\n",
    "import platform\n",
    "import pathlib\n",
    "\n",
    "print('Python version:', platform.python_version())\n",
    "print('Tensorflow version:', tf.__version__)\n",
    "print('Keras version:', tf.keras.__version__)"
   ]
  },
  {
   "cell_type": "code",
   "execution_count": 4,
   "metadata": {},
   "outputs": [
    {
     "name": "stdout",
     "output_type": "stream",
     "text": [
      "Found 14452 images belonging to 8 classes.\n",
      "Found 3608 images belonging to 8 classes.\n"
     ]
    }
   ],
   "source": [
    "IMAGE_SIZE = 224\n",
    "BATCH_SIZE = 32\n",
    "\n",
    "datagen = tf.keras.preprocessing.image.ImageDataGenerator(\n",
    "    rescale = 1./255,\n",
    "    validation_split = 0.2\n",
    ")\n",
    "\n",
    "train_generator = datagen.flow_from_directory(\n",
    "    IMAGE_PATH,\n",
    "    target_size = (IMAGE_SIZE, IMAGE_SIZE),\n",
    "    batch_size = BATCH_SIZE,\n",
    "    subset = 'training'\n",
    ")\n",
    "\n",
    "valid_generator = datagen.flow_from_directory(\n",
    "    IMAGE_PATH,\n",
    "    target_size = (IMAGE_SIZE, IMAGE_SIZE),\n",
    "    batch_size = BATCH_SIZE,\n",
    "    subset = 'validation'\n",
    ")"
   ]
  },
  {
   "cell_type": "code",
   "execution_count": 5,
   "metadata": {},
   "outputs": [
    {
     "data": {
      "text/plain": [
       "((32, 224, 224, 3), (32, 8))"
      ]
     },
     "execution_count": 5,
     "metadata": {},
     "output_type": "execute_result"
    }
   ],
   "source": [
    "image_batch, label_batch = next(valid_generator)\n",
    "image_batch.shape, label_batch.shape"
   ]
  },
  {
   "cell_type": "code",
   "execution_count": 6,
   "metadata": {},
   "outputs": [
    {
     "name": "stdout",
     "output_type": "stream",
     "text": [
      "{'chilsung_cider': 0, 'coca_cola': 1, 'demisoda_apple': 2, 'dr_pepper': 3, 'gatorade': 4, 'pepsi': 5, 'pocari_sweat': 6, 'powerade': 7}\n"
     ]
    }
   ],
   "source": [
    "print (train_generator.class_indices)\n",
    "\n",
    "labels = '\\n'.join(sorted(train_generator.class_indices.keys()))\n",
    "\n",
    "with open('can_labels.txt', 'w') as f:\n",
    "  f.write(labels)"
   ]
  },
  {
   "cell_type": "code",
   "execution_count": 7,
   "metadata": {},
   "outputs": [
    {
     "name": "stdout",
     "output_type": "stream",
     "text": [
      "chilsung_cider\n",
      "coca_cola\n",
      "demisoda_apple\n",
      "dr_pepper\n",
      "gatorade\n",
      "pepsi\n",
      "pocari_sweat\n",
      "powerade"
     ]
    }
   ],
   "source": [
    "%cat can_labels.txt"
   ]
  },
  {
   "cell_type": "code",
   "execution_count": 8,
   "metadata": {},
   "outputs": [],
   "source": [
    "IMG_SHAPE = (IMAGE_SIZE, IMAGE_SIZE, 3)\n",
    "\n",
    "# Create the base model from the pre-trained MobileNet V2\n",
    "base_model = tf.keras.applications.MobileNetV2(input_shape=IMG_SHAPE,\n",
    "                                              include_top=False, \n",
    "                                              weights='imagenet')\n",
    "base_model.trainable = False"
   ]
  },
  {
   "cell_type": "code",
   "execution_count": 9,
   "metadata": {},
   "outputs": [],
   "source": [
    "model = tf.keras.Sequential([\n",
    "  base_model,\n",
    "  tf.keras.layers.Conv2D(filters=32, kernel_size=3, activation='relu'),\n",
    "  tf.keras.layers.Dropout(0.2),\n",
    "  tf.keras.layers.GlobalAveragePooling2D(),\n",
    "  tf.keras.layers.Dense(units=8, activation='softmax')\n",
    "])"
   ]
  },
  {
   "cell_type": "code",
   "execution_count": 10,
   "metadata": {},
   "outputs": [],
   "source": [
    "model.compile(optimizer='adam', \n",
    "              loss='categorical_crossentropy', \n",
    "              metrics=['accuracy'])"
   ]
  },
  {
   "cell_type": "code",
   "execution_count": 11,
   "metadata": {},
   "outputs": [
    {
     "name": "stdout",
     "output_type": "stream",
     "text": [
      "Number of trainable weights = 4\n"
     ]
    }
   ],
   "source": [
    "print('Number of trainable weights = {}'.format(len(model.trainable_weights)))"
   ]
  },
  {
   "cell_type": "code",
   "execution_count": 12,
   "metadata": {},
   "outputs": [
    {
     "name": "stdout",
     "output_type": "stream",
     "text": [
      "Epoch 1/500\n",
      "452/452 [==============================] - 26s 47ms/step - loss: 0.2581 - accuracy: 0.9188 - val_loss: 0.0826 - val_accuracy: 0.9712\n",
      "Epoch 2/500\n",
      "452/452 [==============================] - 20s 43ms/step - loss: 0.0442 - accuracy: 0.9857 - val_loss: 0.0424 - val_accuracy: 0.9836\n",
      "Epoch 3/500\n",
      "452/452 [==============================] - 20s 44ms/step - loss: 0.0202 - accuracy: 0.9938 - val_loss: 0.0541 - val_accuracy: 0.9845\n",
      "Epoch 4/500\n",
      "452/452 [==============================] - 20s 43ms/step - loss: 0.0242 - accuracy: 0.9927 - val_loss: 0.0445 - val_accuracy: 0.9889\n",
      "Epoch 5/500\n",
      "452/452 [==============================] - 20s 43ms/step - loss: 0.0123 - accuracy: 0.9954 - val_loss: 0.0166 - val_accuracy: 0.9950\n",
      "Epoch 6/500\n",
      "452/452 [==============================] - 20s 43ms/step - loss: 0.0195 - accuracy: 0.9939 - val_loss: 0.1420 - val_accuracy: 0.9709\n",
      "Epoch 7/500\n",
      "452/452 [==============================] - 20s 43ms/step - loss: 0.0296 - accuracy: 0.9916 - val_loss: 0.0295 - val_accuracy: 0.9909\n",
      "Epoch 8/500\n",
      "452/452 [==============================] - 20s 43ms/step - loss: 0.0155 - accuracy: 0.9949 - val_loss: 0.0237 - val_accuracy: 0.9920\n",
      "Epoch 9/500\n",
      "452/452 [==============================] - 20s 44ms/step - loss: 0.0079 - accuracy: 0.9976 - val_loss: 0.0236 - val_accuracy: 0.9928\n",
      "Epoch 10/500\n",
      "452/452 [==============================] - 20s 44ms/step - loss: 0.0059 - accuracy: 0.9985 - val_loss: 0.0343 - val_accuracy: 0.9911\n",
      "Epoch 11/500\n",
      "452/452 [==============================] - 20s 44ms/step - loss: 0.0135 - accuracy: 0.9953 - val_loss: 0.0610 - val_accuracy: 0.9850\n",
      "Epoch 12/500\n",
      "452/452 [==============================] - 20s 44ms/step - loss: 0.0129 - accuracy: 0.9965 - val_loss: 0.1841 - val_accuracy: 0.9678\n",
      "Epoch 13/500\n",
      "452/452 [==============================] - 20s 44ms/step - loss: 0.0245 - accuracy: 0.9931 - val_loss: 0.0309 - val_accuracy: 0.9889\n",
      "Epoch 14/500\n",
      "452/452 [==============================] - 20s 44ms/step - loss: 0.0053 - accuracy: 0.9980 - val_loss: 0.0211 - val_accuracy: 0.9939\n",
      "Epoch 15/500\n",
      "452/452 [==============================] - 20s 43ms/step - loss: 0.0037 - accuracy: 0.9988 - val_loss: 0.0217 - val_accuracy: 0.9945\n",
      "Epoch 16/500\n",
      "452/452 [==============================] - 20s 43ms/step - loss: 5.7052e-04 - accuracy: 0.9999 - val_loss: 0.0111 - val_accuracy: 0.9953\n",
      "Epoch 17/500\n",
      "452/452 [==============================] - 20s 44ms/step - loss: 0.0087 - accuracy: 0.9972 - val_loss: 0.0411 - val_accuracy: 0.9906\n",
      "Epoch 18/500\n",
      "452/452 [==============================] - 20s 44ms/step - loss: 0.0422 - accuracy: 0.9895 - val_loss: 0.0288 - val_accuracy: 0.9931\n",
      "Epoch 19/500\n",
      "452/452 [==============================] - 20s 44ms/step - loss: 0.0096 - accuracy: 0.9979 - val_loss: 0.0202 - val_accuracy: 0.9947\n",
      "Epoch 20/500\n",
      "452/452 [==============================] - 20s 44ms/step - loss: 0.0023 - accuracy: 0.9993 - val_loss: 0.0314 - val_accuracy: 0.9906\n",
      "Epoch 21/500\n",
      "452/452 [==============================] - 20s 44ms/step - loss: 0.0044 - accuracy: 0.9990 - val_loss: 0.0266 - val_accuracy: 0.9950\n",
      "Epoch 22/500\n",
      "452/452 [==============================] - 20s 44ms/step - loss: 0.0044 - accuracy: 0.9990 - val_loss: 0.0195 - val_accuracy: 0.9947\n",
      "Epoch 23/500\n",
      "452/452 [==============================] - 20s 44ms/step - loss: 0.0137 - accuracy: 0.9961 - val_loss: 0.0930 - val_accuracy: 0.9806\n",
      "Epoch 24/500\n",
      "452/452 [==============================] - 20s 44ms/step - loss: 0.0118 - accuracy: 0.9969 - val_loss: 0.0221 - val_accuracy: 0.9945\n",
      "Epoch 25/500\n",
      "452/452 [==============================] - 20s 44ms/step - loss: 0.0075 - accuracy: 0.9976 - val_loss: 0.0144 - val_accuracy: 0.9953\n",
      "Epoch 26/500\n",
      "452/452 [==============================] - 20s 44ms/step - loss: 0.0098 - accuracy: 0.9976 - val_loss: 0.1230 - val_accuracy: 0.9767\n",
      "Epoch 27/500\n",
      "452/452 [==============================] - 20s 44ms/step - loss: 0.0088 - accuracy: 0.9981 - val_loss: 0.0101 - val_accuracy: 0.9964\n",
      "Epoch 28/500\n",
      "452/452 [==============================] - 20s 44ms/step - loss: 0.0034 - accuracy: 0.9989 - val_loss: 0.0242 - val_accuracy: 0.9956\n",
      "Epoch 29/500\n",
      "452/452 [==============================] - 20s 44ms/step - loss: 0.0024 - accuracy: 0.9994 - val_loss: 0.0095 - val_accuracy: 0.9981\n",
      "Epoch 30/500\n",
      "452/452 [==============================] - 20s 44ms/step - loss: 2.4228e-04 - accuracy: 1.0000 - val_loss: 0.0088 - val_accuracy: 0.9983\n",
      "Epoch 31/500\n",
      "452/452 [==============================] - 20s 44ms/step - loss: 1.0222e-04 - accuracy: 1.0000 - val_loss: 0.0089 - val_accuracy: 0.9981\n",
      "Epoch 32/500\n",
      "452/452 [==============================] - 20s 44ms/step - loss: 4.2177e-05 - accuracy: 1.0000 - val_loss: 0.0115 - val_accuracy: 0.9975\n",
      "Epoch 33/500\n",
      "452/452 [==============================] - 20s 44ms/step - loss: 0.0226 - accuracy: 0.9947 - val_loss: 0.0566 - val_accuracy: 0.9864\n",
      "Epoch 34/500\n",
      "452/452 [==============================] - 20s 44ms/step - loss: 0.0138 - accuracy: 0.9968 - val_loss: 0.0245 - val_accuracy: 0.9945\n",
      "Epoch 35/500\n",
      "452/452 [==============================] - 20s 44ms/step - loss: 0.0037 - accuracy: 0.9992 - val_loss: 0.0863 - val_accuracy: 0.9864\n",
      "Epoch 36/500\n",
      "452/452 [==============================] - 20s 44ms/step - loss: 0.0037 - accuracy: 0.9989 - val_loss: 0.0342 - val_accuracy: 0.9931\n",
      "Epoch 37/500\n",
      "452/452 [==============================] - 20s 44ms/step - loss: 0.0022 - accuracy: 0.9994 - val_loss: 0.0149 - val_accuracy: 0.9972\n",
      "Epoch 38/500\n",
      "452/452 [==============================] - 20s 44ms/step - loss: 7.8844e-05 - accuracy: 1.0000 - val_loss: 0.0154 - val_accuracy: 0.9981\n",
      "Epoch 39/500\n",
      "452/452 [==============================] - 20s 44ms/step - loss: 0.0086 - accuracy: 0.9979 - val_loss: 0.1786 - val_accuracy: 0.9731\n",
      "Epoch 40/500\n",
      "452/452 [==============================] - 20s 44ms/step - loss: 0.0080 - accuracy: 0.9983 - val_loss: 0.0511 - val_accuracy: 0.9920\n",
      "Epoch 41/500\n",
      "452/452 [==============================] - 20s 44ms/step - loss: 0.0172 - accuracy: 0.9972 - val_loss: 0.0370 - val_accuracy: 0.9925\n",
      "Epoch 42/500\n",
      "452/452 [==============================] - 20s 44ms/step - loss: 0.0012 - accuracy: 0.9996 - val_loss: 0.0235 - val_accuracy: 0.9967\n",
      "Epoch 43/500\n",
      "452/452 [==============================] - 20s 44ms/step - loss: 2.1998e-04 - accuracy: 0.9999 - val_loss: 0.0215 - val_accuracy: 0.9942\n",
      "Epoch 44/500\n",
      "452/452 [==============================] - 20s 44ms/step - loss: 0.0059 - accuracy: 0.9985 - val_loss: 0.0235 - val_accuracy: 0.9945\n",
      "Epoch 45/500\n",
      "452/452 [==============================] - 20s 43ms/step - loss: 0.0110 - accuracy: 0.9979 - val_loss: 0.0818 - val_accuracy: 0.9853\n",
      "Epoch 46/500\n",
      "452/452 [==============================] - 20s 44ms/step - loss: 0.0044 - accuracy: 0.9983 - val_loss: 0.0193 - val_accuracy: 0.9967\n",
      "Epoch 47/500\n",
      "452/452 [==============================] - 20s 43ms/step - loss: 0.0040 - accuracy: 0.9991 - val_loss: 0.0279 - val_accuracy: 0.9947\n",
      "Epoch 48/500\n",
      "452/452 [==============================] - 20s 44ms/step - loss: 7.8999e-04 - accuracy: 0.9997 - val_loss: 0.0403 - val_accuracy: 0.9928\n",
      "Epoch 49/500\n",
      "452/452 [==============================] - 20s 44ms/step - loss: 0.0056 - accuracy: 0.9993 - val_loss: 0.0647 - val_accuracy: 0.9853\n",
      "Epoch 50/500\n",
      "452/452 [==============================] - 20s 44ms/step - loss: 0.0066 - accuracy: 0.9982 - val_loss: 0.0337 - val_accuracy: 0.9939\n",
      "Epoch 51/500\n",
      "452/452 [==============================] - 20s 44ms/step - loss: 5.7288e-04 - accuracy: 0.9999 - val_loss: 0.0226 - val_accuracy: 0.9956\n",
      "Epoch 52/500\n",
      "452/452 [==============================] - 20s 44ms/step - loss: 0.0089 - accuracy: 0.9985 - val_loss: 0.0831 - val_accuracy: 0.9895\n",
      "Epoch 53/500\n",
      "452/452 [==============================] - 20s 44ms/step - loss: 0.0121 - accuracy: 0.9967 - val_loss: 0.0284 - val_accuracy: 0.9953\n",
      "Epoch 54/500\n",
      "452/452 [==============================] - 20s 44ms/step - loss: 3.6488e-04 - accuracy: 0.9999 - val_loss: 0.0207 - val_accuracy: 0.9961\n",
      "Epoch 55/500\n",
      "452/452 [==============================] - 20s 44ms/step - loss: 2.0449e-04 - accuracy: 0.9999 - val_loss: 0.0201 - val_accuracy: 0.9956\n",
      "Epoch 56/500\n",
      "452/452 [==============================] - 20s 44ms/step - loss: 6.6747e-05 - accuracy: 1.0000 - val_loss: 0.0325 - val_accuracy: 0.9925\n",
      "Epoch 57/500\n",
      "452/452 [==============================] - 20s 44ms/step - loss: 0.0017 - accuracy: 0.9994 - val_loss: 0.0240 - val_accuracy: 0.9964\n",
      "Epoch 58/500\n",
      "452/452 [==============================] - 20s 44ms/step - loss: 0.0153 - accuracy: 0.9963 - val_loss: 0.0822 - val_accuracy: 0.9881\n",
      "Epoch 59/500\n",
      "452/452 [==============================] - 20s 44ms/step - loss: 0.0105 - accuracy: 0.9983 - val_loss: 0.0294 - val_accuracy: 0.9942\n",
      "Epoch 60/500\n",
      "452/452 [==============================] - 20s 44ms/step - loss: 0.0049 - accuracy: 0.9992 - val_loss: 0.0336 - val_accuracy: 0.9947\n",
      "Epoch 61/500\n",
      "452/452 [==============================] - 20s 44ms/step - loss: 0.0037 - accuracy: 0.9990 - val_loss: 0.0279 - val_accuracy: 0.9956\n",
      "Epoch 62/500\n",
      "452/452 [==============================] - 20s 44ms/step - loss: 2.1256e-04 - accuracy: 0.9999 - val_loss: 0.0208 - val_accuracy: 0.9961\n",
      "Epoch 63/500\n",
      "452/452 [==============================] - 20s 44ms/step - loss: 3.8023e-05 - accuracy: 1.0000 - val_loss: 0.0204 - val_accuracy: 0.9958\n",
      "Epoch 64/500\n",
      "452/452 [==============================] - 20s 44ms/step - loss: 6.2052e-05 - accuracy: 1.0000 - val_loss: 0.0241 - val_accuracy: 0.9953\n",
      "Epoch 65/500\n",
      "452/452 [==============================] - 20s 44ms/step - loss: 0.0034 - accuracy: 0.9993 - val_loss: 0.0217 - val_accuracy: 0.9956\n",
      "Epoch 66/500\n",
      "452/452 [==============================] - 20s 44ms/step - loss: 2.8699e-04 - accuracy: 0.9999 - val_loss: 0.0302 - val_accuracy: 0.9947\n",
      "Epoch 67/500\n",
      "452/452 [==============================] - 20s 43ms/step - loss: 3.5515e-05 - accuracy: 1.0000 - val_loss: 0.0187 - val_accuracy: 0.9967\n",
      "Epoch 68/500\n",
      "452/452 [==============================] - 20s 43ms/step - loss: 3.2368e-05 - accuracy: 1.0000 - val_loss: 0.0267 - val_accuracy: 0.9970\n",
      "Epoch 69/500\n",
      "452/452 [==============================] - 20s 44ms/step - loss: 1.5095e-05 - accuracy: 1.0000 - val_loss: 0.0202 - val_accuracy: 0.9972\n",
      "Epoch 70/500\n",
      "452/452 [==============================] - 20s 44ms/step - loss: 0.0200 - accuracy: 0.9963 - val_loss: 0.1604 - val_accuracy: 0.9848\n",
      "Epoch 71/500\n",
      "452/452 [==============================] - 20s 44ms/step - loss: 0.0038 - accuracy: 0.9989 - val_loss: 0.0267 - val_accuracy: 0.9953\n",
      "Epoch 72/500\n",
      "452/452 [==============================] - 20s 44ms/step - loss: 3.2332e-04 - accuracy: 0.9999 - val_loss: 0.0640 - val_accuracy: 0.9911\n",
      "Epoch 73/500\n",
      "452/452 [==============================] - 20s 44ms/step - loss: 2.1031e-04 - accuracy: 0.9999 - val_loss: 0.0197 - val_accuracy: 0.9961\n",
      "Epoch 74/500\n",
      "452/452 [==============================] - 20s 44ms/step - loss: 2.8763e-05 - accuracy: 1.0000 - val_loss: 0.0233 - val_accuracy: 0.9961\n",
      "Epoch 75/500\n",
      "452/452 [==============================] - 20s 43ms/step - loss: 2.2713e-05 - accuracy: 1.0000 - val_loss: 0.0284 - val_accuracy: 0.9958\n",
      "Epoch 76/500\n",
      "452/452 [==============================] - 20s 44ms/step - loss: 1.5912e-05 - accuracy: 1.0000 - val_loss: 0.0235 - val_accuracy: 0.9967\n",
      "Epoch 77/500\n",
      "452/452 [==============================] - 20s 43ms/step - loss: 0.0180 - accuracy: 0.9975 - val_loss: 0.0509 - val_accuracy: 0.9933\n",
      "Epoch 78/500\n",
      "452/452 [==============================] - 20s 44ms/step - loss: 0.0087 - accuracy: 0.9983 - val_loss: 0.0227 - val_accuracy: 0.9967\n",
      "Epoch 79/500\n",
      "452/452 [==============================] - 20s 44ms/step - loss: 2.8877e-05 - accuracy: 1.0000 - val_loss: 0.0212 - val_accuracy: 0.9967\n",
      "Epoch 80/500\n",
      "452/452 [==============================] - 20s 44ms/step - loss: 6.8710e-05 - accuracy: 1.0000 - val_loss: 0.0207 - val_accuracy: 0.9961\n",
      "Epoch 81/500\n",
      "452/452 [==============================] - 20s 43ms/step - loss: 6.1861e-04 - accuracy: 0.9999 - val_loss: 0.0516 - val_accuracy: 0.9931\n",
      "Epoch 82/500\n",
      "452/452 [==============================] - 20s 44ms/step - loss: 0.0037 - accuracy: 0.9990 - val_loss: 0.1437 - val_accuracy: 0.9828\n",
      "Epoch 83/500\n",
      "452/452 [==============================] - 20s 44ms/step - loss: 0.0116 - accuracy: 0.9979 - val_loss: 0.0309 - val_accuracy: 0.9947\n",
      "Epoch 84/500\n",
      "452/452 [==============================] - 20s 44ms/step - loss: 5.2618e-05 - accuracy: 1.0000 - val_loss: 0.0267 - val_accuracy: 0.9967\n",
      "Epoch 85/500\n",
      "452/452 [==============================] - 20s 44ms/step - loss: 0.0048 - accuracy: 0.9994 - val_loss: 0.1050 - val_accuracy: 0.9878\n",
      "Epoch 86/500\n",
      "452/452 [==============================] - 20s 44ms/step - loss: 0.0020 - accuracy: 0.9993 - val_loss: 0.0331 - val_accuracy: 0.9947\n",
      "Epoch 87/500\n",
      "452/452 [==============================] - 20s 44ms/step - loss: 1.3884e-04 - accuracy: 0.9999 - val_loss: 0.0402 - val_accuracy: 0.9956\n",
      "Epoch 88/500\n",
      "452/452 [==============================] - 20s 44ms/step - loss: 0.0080 - accuracy: 0.9986 - val_loss: 0.0400 - val_accuracy: 0.9920\n",
      "Epoch 89/500\n",
      "452/452 [==============================] - 20s 44ms/step - loss: 0.0022 - accuracy: 0.9994 - val_loss: 0.0249 - val_accuracy: 0.9953\n",
      "Epoch 90/500\n",
      "452/452 [==============================] - 20s 44ms/step - loss: 3.6389e-04 - accuracy: 0.9999 - val_loss: 0.0485 - val_accuracy: 0.9931\n",
      "Epoch 91/500\n",
      "452/452 [==============================] - 20s 44ms/step - loss: 2.2542e-05 - accuracy: 1.0000 - val_loss: 0.0253 - val_accuracy: 0.9950\n",
      "Epoch 92/500\n",
      "452/452 [==============================] - 20s 44ms/step - loss: 8.7574e-06 - accuracy: 1.0000 - val_loss: 0.0230 - val_accuracy: 0.9958\n",
      "Epoch 93/500\n",
      "452/452 [==============================] - 20s 44ms/step - loss: 0.0088 - accuracy: 0.9986 - val_loss: 0.1071 - val_accuracy: 0.9892\n",
      "Epoch 94/500\n",
      "452/452 [==============================] - 20s 44ms/step - loss: 0.0040 - accuracy: 0.9991 - val_loss: 0.0998 - val_accuracy: 0.9917\n",
      "Epoch 95/500\n",
      "452/452 [==============================] - 20s 44ms/step - loss: 0.0084 - accuracy: 0.9985 - val_loss: 0.0405 - val_accuracy: 0.9936\n",
      "Epoch 96/500\n",
      "452/452 [==============================] - 20s 44ms/step - loss: 0.0089 - accuracy: 0.9986 - val_loss: 0.0375 - val_accuracy: 0.9956\n",
      "Epoch 97/500\n",
      "452/452 [==============================] - 20s 44ms/step - loss: 0.0081 - accuracy: 0.9987 - val_loss: 0.0790 - val_accuracy: 0.9895\n",
      "Epoch 98/500\n",
      "452/452 [==============================] - 20s 44ms/step - loss: 0.0038 - accuracy: 0.9992 - val_loss: 0.0805 - val_accuracy: 0.9914\n",
      "Epoch 99/500\n",
      "452/452 [==============================] - 20s 44ms/step - loss: 7.9676e-04 - accuracy: 0.9997 - val_loss: 0.0282 - val_accuracy: 0.9961\n",
      "Epoch 100/500\n",
      "452/452 [==============================] - 20s 43ms/step - loss: 1.8859e-05 - accuracy: 1.0000 - val_loss: 0.0237 - val_accuracy: 0.9967\n",
      "Epoch 101/500\n",
      "452/452 [==============================] - 20s 44ms/step - loss: 2.8134e-04 - accuracy: 0.9999 - val_loss: 0.0264 - val_accuracy: 0.9967\n",
      "Epoch 102/500\n",
      "452/452 [==============================] - 20s 44ms/step - loss: 1.7913e-05 - accuracy: 1.0000 - val_loss: 0.0222 - val_accuracy: 0.9972\n",
      "Epoch 103/500\n",
      "452/452 [==============================] - 20s 44ms/step - loss: 5.6711e-06 - accuracy: 1.0000 - val_loss: 0.0187 - val_accuracy: 0.9975\n",
      "Epoch 104/500\n",
      "452/452 [==============================] - 20s 44ms/step - loss: 0.0026 - accuracy: 0.9996 - val_loss: 0.0444 - val_accuracy: 0.9945\n",
      "Epoch 105/500\n",
      "452/452 [==============================] - 20s 44ms/step - loss: 0.0097 - accuracy: 0.9983 - val_loss: 0.0314 - val_accuracy: 0.9950\n",
      "Epoch 106/500\n",
      "452/452 [==============================] - 20s 44ms/step - loss: 0.0012 - accuracy: 0.9997 - val_loss: 0.0415 - val_accuracy: 0.9945\n",
      "Epoch 107/500\n",
      "452/452 [==============================] - 20s 44ms/step - loss: 1.0396e-05 - accuracy: 1.0000 - val_loss: 0.0374 - val_accuracy: 0.9947\n",
      "Epoch 108/500\n",
      "452/452 [==============================] - 20s 44ms/step - loss: 0.0088 - accuracy: 0.9983 - val_loss: 0.0530 - val_accuracy: 0.9945\n",
      "Epoch 109/500\n",
      "452/452 [==============================] - 20s 44ms/step - loss: 0.0050 - accuracy: 0.9990 - val_loss: 0.0513 - val_accuracy: 0.9911\n",
      "Epoch 110/500\n",
      "452/452 [==============================] - 20s 44ms/step - loss: 0.0020 - accuracy: 0.9996 - val_loss: 0.0842 - val_accuracy: 0.9906\n",
      "Epoch 111/500\n",
      "452/452 [==============================] - 20s 44ms/step - loss: 5.5238e-05 - accuracy: 1.0000 - val_loss: 0.0171 - val_accuracy: 0.9970\n",
      "Epoch 112/500\n",
      "452/452 [==============================] - 20s 44ms/step - loss: 5.5581e-04 - accuracy: 0.9999 - val_loss: 0.0224 - val_accuracy: 0.9953\n",
      "Epoch 113/500\n",
      "452/452 [==============================] - 20s 44ms/step - loss: 0.0037 - accuracy: 0.9992 - val_loss: 0.0625 - val_accuracy: 0.9925\n",
      "Epoch 114/500\n",
      "452/452 [==============================] - 20s 44ms/step - loss: 0.0113 - accuracy: 0.9980 - val_loss: 0.0299 - val_accuracy: 0.9956\n",
      "Epoch 115/500\n",
      "452/452 [==============================] - 20s 44ms/step - loss: 0.0018 - accuracy: 0.9995 - val_loss: 0.1476 - val_accuracy: 0.9873\n",
      "Epoch 116/500\n",
      "452/452 [==============================] - 20s 44ms/step - loss: 7.7492e-04 - accuracy: 0.9997 - val_loss: 0.0421 - val_accuracy: 0.9972\n",
      "Epoch 117/500\n",
      "452/452 [==============================] - 20s 44ms/step - loss: 0.0041 - accuracy: 0.9992 - val_loss: 0.0300 - val_accuracy: 0.9975\n",
      "Epoch 118/500\n",
      "452/452 [==============================] - 20s 44ms/step - loss: 0.0022 - accuracy: 0.9994 - val_loss: 0.0482 - val_accuracy: 0.9964\n",
      "Epoch 119/500\n",
      "452/452 [==============================] - 20s 44ms/step - loss: 2.9513e-05 - accuracy: 1.0000 - val_loss: 0.0390 - val_accuracy: 0.9964\n",
      "Epoch 120/500\n",
      "452/452 [==============================] - 20s 44ms/step - loss: 0.0024 - accuracy: 0.9996 - val_loss: 0.0361 - val_accuracy: 0.9956\n",
      "Epoch 121/500\n",
      "452/452 [==============================] - 20s 44ms/step - loss: 1.9903e-04 - accuracy: 0.9999 - val_loss: 0.0300 - val_accuracy: 0.9950\n",
      "Epoch 122/500\n",
      "452/452 [==============================] - 20s 44ms/step - loss: 0.0064 - accuracy: 0.9987 - val_loss: 0.0458 - val_accuracy: 0.9939\n",
      "Epoch 123/500\n",
      "452/452 [==============================] - 20s 44ms/step - loss: 0.0018 - accuracy: 0.9998 - val_loss: 0.0247 - val_accuracy: 0.9970\n",
      "Epoch 124/500\n",
      "452/452 [==============================] - 20s 44ms/step - loss: 7.9040e-05 - accuracy: 1.0000 - val_loss: 0.0311 - val_accuracy: 0.9958\n",
      "Epoch 125/500\n",
      "452/452 [==============================] - 20s 44ms/step - loss: 0.0032 - accuracy: 0.9994 - val_loss: 0.0161 - val_accuracy: 0.9972\n",
      "Epoch 126/500\n",
      "452/452 [==============================] - 20s 44ms/step - loss: 0.0063 - accuracy: 0.9988 - val_loss: 0.0407 - val_accuracy: 0.9936\n",
      "Epoch 127/500\n",
      "452/452 [==============================] - 20s 44ms/step - loss: 0.0033 - accuracy: 0.9994 - val_loss: 0.0160 - val_accuracy: 0.9975\n",
      "Epoch 128/500\n",
      "452/452 [==============================] - 20s 44ms/step - loss: 6.1518e-04 - accuracy: 0.9999 - val_loss: 0.0202 - val_accuracy: 0.9975\n",
      "Epoch 129/500\n",
      "452/452 [==============================] - 20s 44ms/step - loss: 0.0010 - accuracy: 0.9998 - val_loss: 0.0402 - val_accuracy: 0.9939\n",
      "Epoch 130/500\n",
      "452/452 [==============================] - 20s 44ms/step - loss: 3.1178e-04 - accuracy: 0.9999 - val_loss: 0.0291 - val_accuracy: 0.9961\n",
      "Epoch 131/500\n",
      "452/452 [==============================] - 20s 44ms/step - loss: 0.0012 - accuracy: 0.9999 - val_loss: 0.0295 - val_accuracy: 0.9961\n",
      "Epoch 132/500\n",
      "452/452 [==============================] - 20s 43ms/step - loss: 0.0015 - accuracy: 0.9994 - val_loss: 0.0948 - val_accuracy: 0.9909\n",
      "Epoch 133/500\n",
      "452/452 [==============================] - 20s 44ms/step - loss: 0.0094 - accuracy: 0.9988 - val_loss: 0.0487 - val_accuracy: 0.9928\n",
      "Epoch 134/500\n",
      "452/452 [==============================] - 20s 44ms/step - loss: 3.7148e-04 - accuracy: 0.9999 - val_loss: 0.0150 - val_accuracy: 0.9972\n",
      "Epoch 135/500\n",
      "452/452 [==============================] - 20s 44ms/step - loss: 5.8531e-06 - accuracy: 1.0000 - val_loss: 0.0132 - val_accuracy: 0.9975\n",
      "Epoch 136/500\n",
      "452/452 [==============================] - 20s 44ms/step - loss: 2.5889e-06 - accuracy: 1.0000 - val_loss: 0.0128 - val_accuracy: 0.9975\n",
      "Epoch 137/500\n",
      "452/452 [==============================] - 20s 43ms/step - loss: 1.0546e-06 - accuracy: 1.0000 - val_loss: 0.0128 - val_accuracy: 0.9975\n",
      "Epoch 138/500\n",
      "452/452 [==============================] - 20s 44ms/step - loss: 1.2906e-05 - accuracy: 1.0000 - val_loss: 0.0094 - val_accuracy: 0.9981\n",
      "Epoch 139/500\n",
      "452/452 [==============================] - 20s 44ms/step - loss: 3.1763e-06 - accuracy: 1.0000 - val_loss: 0.0094 - val_accuracy: 0.9981\n",
      "Epoch 140/500\n",
      "452/452 [==============================] - 20s 44ms/step - loss: 2.0233e-04 - accuracy: 0.9999 - val_loss: 0.0577 - val_accuracy: 0.9933\n",
      "Epoch 141/500\n",
      "452/452 [==============================] - 20s 44ms/step - loss: 0.0143 - accuracy: 0.9983 - val_loss: 0.0788 - val_accuracy: 0.9920\n",
      "Epoch 142/500\n",
      "452/452 [==============================] - 20s 44ms/step - loss: 0.0047 - accuracy: 0.9996 - val_loss: 0.0720 - val_accuracy: 0.9920\n",
      "Epoch 143/500\n",
      "452/452 [==============================] - 20s 44ms/step - loss: 0.0046 - accuracy: 0.9991 - val_loss: 0.0453 - val_accuracy: 0.9953\n",
      "Epoch 144/500\n",
      "452/452 [==============================] - 20s 44ms/step - loss: 0.0031 - accuracy: 0.9996 - val_loss: 0.0414 - val_accuracy: 0.9958\n",
      "Epoch 145/500\n",
      "452/452 [==============================] - 20s 44ms/step - loss: 7.1874e-06 - accuracy: 1.0000 - val_loss: 0.0407 - val_accuracy: 0.9958\n",
      "Epoch 146/500\n",
      "452/452 [==============================] - 20s 44ms/step - loss: 5.2846e-04 - accuracy: 0.9999 - val_loss: 0.0578 - val_accuracy: 0.9939\n",
      "Epoch 147/500\n",
      "452/452 [==============================] - 20s 44ms/step - loss: 7.1012e-04 - accuracy: 0.9998 - val_loss: 0.0303 - val_accuracy: 0.9953\n",
      "Epoch 148/500\n",
      "452/452 [==============================] - 20s 44ms/step - loss: 4.3132e-04 - accuracy: 0.9999 - val_loss: 0.0762 - val_accuracy: 0.9931\n",
      "Epoch 149/500\n",
      "452/452 [==============================] - 20s 44ms/step - loss: 0.0118 - accuracy: 0.9987 - val_loss: 0.0684 - val_accuracy: 0.9945\n",
      "Epoch 150/500\n",
      "452/452 [==============================] - 20s 44ms/step - loss: 0.0085 - accuracy: 0.9990 - val_loss: 0.0286 - val_accuracy: 0.9958\n",
      "Epoch 151/500\n",
      "452/452 [==============================] - 20s 43ms/step - loss: 0.0047 - accuracy: 0.9994 - val_loss: 0.0433 - val_accuracy: 0.9958\n",
      "Epoch 152/500\n",
      "452/452 [==============================] - 20s 44ms/step - loss: 1.2677e-04 - accuracy: 0.9999 - val_loss: 0.0413 - val_accuracy: 0.9964\n",
      "Epoch 153/500\n",
      "452/452 [==============================] - 20s 44ms/step - loss: 3.2668e-06 - accuracy: 1.0000 - val_loss: 0.0403 - val_accuracy: 0.9964\n",
      "Epoch 154/500\n",
      "452/452 [==============================] - 20s 43ms/step - loss: 0.0046 - accuracy: 0.9995 - val_loss: 0.0618 - val_accuracy: 0.9942\n",
      "Epoch 155/500\n",
      "452/452 [==============================] - 20s 44ms/step - loss: 6.9135e-04 - accuracy: 0.9999 - val_loss: 0.0577 - val_accuracy: 0.9939\n",
      "Epoch 156/500\n",
      "452/452 [==============================] - 20s 44ms/step - loss: 8.7610e-06 - accuracy: 1.0000 - val_loss: 0.0603 - val_accuracy: 0.9939\n",
      "Epoch 157/500\n",
      "452/452 [==============================] - 20s 44ms/step - loss: 3.7858e-06 - accuracy: 1.0000 - val_loss: 0.0601 - val_accuracy: 0.9945\n",
      "Epoch 158/500\n",
      "452/452 [==============================] - 20s 44ms/step - loss: 8.4144e-06 - accuracy: 1.0000 - val_loss: 0.0604 - val_accuracy: 0.9945\n",
      "Epoch 159/500\n",
      "452/452 [==============================] - 20s 44ms/step - loss: 7.0156e-07 - accuracy: 1.0000 - val_loss: 0.0592 - val_accuracy: 0.9945\n",
      "Epoch 160/500\n",
      "452/452 [==============================] - 20s 44ms/step - loss: 8.7076e-06 - accuracy: 1.0000 - val_loss: 0.0455 - val_accuracy: 0.9950\n",
      "Epoch 161/500\n",
      "452/452 [==============================] - 20s 44ms/step - loss: 0.0017 - accuracy: 0.9997 - val_loss: 0.0365 - val_accuracy: 0.9961\n",
      "Epoch 162/500\n",
      "452/452 [==============================] - 20s 44ms/step - loss: 0.0126 - accuracy: 0.9981 - val_loss: 0.3032 - val_accuracy: 0.9825\n",
      "Epoch 163/500\n",
      "452/452 [==============================] - 20s 44ms/step - loss: 0.0067 - accuracy: 0.9994 - val_loss: 0.1660 - val_accuracy: 0.9873\n",
      "Epoch 164/500\n",
      "452/452 [==============================] - 20s 44ms/step - loss: 0.0049 - accuracy: 0.9994 - val_loss: 0.2331 - val_accuracy: 0.9848\n",
      "Epoch 165/500\n",
      "452/452 [==============================] - 20s 44ms/step - loss: 0.0090 - accuracy: 0.9990 - val_loss: 0.0520 - val_accuracy: 0.9950\n",
      "Epoch 166/500\n",
      "452/452 [==============================] - 20s 44ms/step - loss: 2.0686e-05 - accuracy: 1.0000 - val_loss: 0.0472 - val_accuracy: 0.9953\n",
      "Epoch 167/500\n",
      "452/452 [==============================] - 20s 44ms/step - loss: 7.0247e-06 - accuracy: 1.0000 - val_loss: 0.0437 - val_accuracy: 0.9953\n",
      "Epoch 168/500\n",
      "452/452 [==============================] - 20s 44ms/step - loss: 0.0061 - accuracy: 0.9990 - val_loss: 0.0287 - val_accuracy: 0.9967\n",
      "Epoch 169/500\n",
      "452/452 [==============================] - 20s 44ms/step - loss: 3.9327e-05 - accuracy: 1.0000 - val_loss: 0.0318 - val_accuracy: 0.9967\n",
      "Epoch 170/500\n",
      "452/452 [==============================] - 20s 44ms/step - loss: 0.0012 - accuracy: 0.9997 - val_loss: 0.0606 - val_accuracy: 0.9961\n",
      "Epoch 171/500\n",
      "325/452 [====================>.........] - ETA: 4s - loss: 0.0050 - accuracy: 0.9992"
     ]
    },
    {
     "ename": "KeyboardInterrupt",
     "evalue": "",
     "output_type": "error",
     "traceback": [
      "\u001b[0;31m---------------------------------------------------------------------------\u001b[0m",
      "\u001b[0;31mKeyboardInterrupt\u001b[0m                         Traceback (most recent call last)",
      "Cell \u001b[0;32mIn [12], line 1\u001b[0m\n\u001b[0;32m----> 1\u001b[0m history \u001b[38;5;241m=\u001b[39m model\u001b[38;5;241m.\u001b[39mfit(train_generator,\n\u001b[1;32m      2\u001b[0m                     steps_per_epoch\u001b[38;5;241m=\u001b[39m\u001b[38;5;28mlen\u001b[39m(train_generator), \n\u001b[1;32m      3\u001b[0m                     epochs\u001b[38;5;241m=\u001b[39m\u001b[38;5;241m500\u001b[39m,\n\u001b[1;32m      4\u001b[0m                     validation_data\u001b[38;5;241m=\u001b[39mvalid_generator,\n\u001b[1;32m      5\u001b[0m                     validation_steps\u001b[38;5;241m=\u001b[39m\u001b[38;5;28mlen\u001b[39m(valid_generator))\n",
      "File \u001b[0;32m~/tf28/lib/python3.9/site-packages/keras/utils/traceback_utils.py:64\u001b[0m, in \u001b[0;36mfilter_traceback.<locals>.error_handler\u001b[0;34m(*args, **kwargs)\u001b[0m\n\u001b[1;32m     62\u001b[0m filtered_tb \u001b[39m=\u001b[39m \u001b[39mNone\u001b[39;00m\n\u001b[1;32m     63\u001b[0m \u001b[39mtry\u001b[39;00m:\n\u001b[0;32m---> 64\u001b[0m   \u001b[39mreturn\u001b[39;00m fn(\u001b[39m*\u001b[39;49margs, \u001b[39m*\u001b[39;49m\u001b[39m*\u001b[39;49mkwargs)\n\u001b[1;32m     65\u001b[0m \u001b[39mexcept\u001b[39;00m \u001b[39mException\u001b[39;00m \u001b[39mas\u001b[39;00m e:  \u001b[39m# pylint: disable=broad-except\u001b[39;00m\n\u001b[1;32m     66\u001b[0m   filtered_tb \u001b[39m=\u001b[39m _process_traceback_frames(e\u001b[39m.\u001b[39m__traceback__)\n",
      "File \u001b[0;32m~/tf28/lib/python3.9/site-packages/keras/engine/training.py:1384\u001b[0m, in \u001b[0;36mModel.fit\u001b[0;34m(self, x, y, batch_size, epochs, verbose, callbacks, validation_split, validation_data, shuffle, class_weight, sample_weight, initial_epoch, steps_per_epoch, validation_steps, validation_batch_size, validation_freq, max_queue_size, workers, use_multiprocessing)\u001b[0m\n\u001b[1;32m   1377\u001b[0m \u001b[39mwith\u001b[39;00m tf\u001b[39m.\u001b[39mprofiler\u001b[39m.\u001b[39mexperimental\u001b[39m.\u001b[39mTrace(\n\u001b[1;32m   1378\u001b[0m     \u001b[39m'\u001b[39m\u001b[39mtrain\u001b[39m\u001b[39m'\u001b[39m,\n\u001b[1;32m   1379\u001b[0m     epoch_num\u001b[39m=\u001b[39mepoch,\n\u001b[1;32m   1380\u001b[0m     step_num\u001b[39m=\u001b[39mstep,\n\u001b[1;32m   1381\u001b[0m     batch_size\u001b[39m=\u001b[39mbatch_size,\n\u001b[1;32m   1382\u001b[0m     _r\u001b[39m=\u001b[39m\u001b[39m1\u001b[39m):\n\u001b[1;32m   1383\u001b[0m   callbacks\u001b[39m.\u001b[39mon_train_batch_begin(step)\n\u001b[0;32m-> 1384\u001b[0m   tmp_logs \u001b[39m=\u001b[39m \u001b[39mself\u001b[39;49m\u001b[39m.\u001b[39;49mtrain_function(iterator)\n\u001b[1;32m   1385\u001b[0m   \u001b[39mif\u001b[39;00m data_handler\u001b[39m.\u001b[39mshould_sync:\n\u001b[1;32m   1386\u001b[0m     context\u001b[39m.\u001b[39masync_wait()\n",
      "File \u001b[0;32m~/tf28/lib/python3.9/site-packages/tensorflow/python/util/traceback_utils.py:150\u001b[0m, in \u001b[0;36mfilter_traceback.<locals>.error_handler\u001b[0;34m(*args, **kwargs)\u001b[0m\n\u001b[1;32m    148\u001b[0m filtered_tb \u001b[39m=\u001b[39m \u001b[39mNone\u001b[39;00m\n\u001b[1;32m    149\u001b[0m \u001b[39mtry\u001b[39;00m:\n\u001b[0;32m--> 150\u001b[0m   \u001b[39mreturn\u001b[39;00m fn(\u001b[39m*\u001b[39;49margs, \u001b[39m*\u001b[39;49m\u001b[39m*\u001b[39;49mkwargs)\n\u001b[1;32m    151\u001b[0m \u001b[39mexcept\u001b[39;00m \u001b[39mException\u001b[39;00m \u001b[39mas\u001b[39;00m e:\n\u001b[1;32m    152\u001b[0m   filtered_tb \u001b[39m=\u001b[39m _process_traceback_frames(e\u001b[39m.\u001b[39m__traceback__)\n",
      "File \u001b[0;32m~/tf28/lib/python3.9/site-packages/tensorflow/python/eager/def_function.py:915\u001b[0m, in \u001b[0;36mFunction.__call__\u001b[0;34m(self, *args, **kwds)\u001b[0m\n\u001b[1;32m    912\u001b[0m compiler \u001b[39m=\u001b[39m \u001b[39m\"\u001b[39m\u001b[39mxla\u001b[39m\u001b[39m\"\u001b[39m \u001b[39mif\u001b[39;00m \u001b[39mself\u001b[39m\u001b[39m.\u001b[39m_jit_compile \u001b[39melse\u001b[39;00m \u001b[39m\"\u001b[39m\u001b[39mnonXla\u001b[39m\u001b[39m\"\u001b[39m\n\u001b[1;32m    914\u001b[0m \u001b[39mwith\u001b[39;00m OptionalXlaContext(\u001b[39mself\u001b[39m\u001b[39m.\u001b[39m_jit_compile):\n\u001b[0;32m--> 915\u001b[0m   result \u001b[39m=\u001b[39m \u001b[39mself\u001b[39;49m\u001b[39m.\u001b[39;49m_call(\u001b[39m*\u001b[39;49margs, \u001b[39m*\u001b[39;49m\u001b[39m*\u001b[39;49mkwds)\n\u001b[1;32m    917\u001b[0m new_tracing_count \u001b[39m=\u001b[39m \u001b[39mself\u001b[39m\u001b[39m.\u001b[39mexperimental_get_tracing_count()\n\u001b[1;32m    918\u001b[0m without_tracing \u001b[39m=\u001b[39m (tracing_count \u001b[39m==\u001b[39m new_tracing_count)\n",
      "File \u001b[0;32m~/tf28/lib/python3.9/site-packages/tensorflow/python/eager/def_function.py:947\u001b[0m, in \u001b[0;36mFunction._call\u001b[0;34m(self, *args, **kwds)\u001b[0m\n\u001b[1;32m    944\u001b[0m   \u001b[39mself\u001b[39m\u001b[39m.\u001b[39m_lock\u001b[39m.\u001b[39mrelease()\n\u001b[1;32m    945\u001b[0m   \u001b[39m# In this case we have created variables on the first call, so we run the\u001b[39;00m\n\u001b[1;32m    946\u001b[0m   \u001b[39m# defunned version which is guaranteed to never create variables.\u001b[39;00m\n\u001b[0;32m--> 947\u001b[0m   \u001b[39mreturn\u001b[39;00m \u001b[39mself\u001b[39;49m\u001b[39m.\u001b[39;49m_stateless_fn(\u001b[39m*\u001b[39;49margs, \u001b[39m*\u001b[39;49m\u001b[39m*\u001b[39;49mkwds)  \u001b[39m# pylint: disable=not-callable\u001b[39;00m\n\u001b[1;32m    948\u001b[0m \u001b[39melif\u001b[39;00m \u001b[39mself\u001b[39m\u001b[39m.\u001b[39m_stateful_fn \u001b[39mis\u001b[39;00m \u001b[39mnot\u001b[39;00m \u001b[39mNone\u001b[39;00m:\n\u001b[1;32m    949\u001b[0m   \u001b[39m# Release the lock early so that multiple threads can perform the call\u001b[39;00m\n\u001b[1;32m    950\u001b[0m   \u001b[39m# in parallel.\u001b[39;00m\n\u001b[1;32m    951\u001b[0m   \u001b[39mself\u001b[39m\u001b[39m.\u001b[39m_lock\u001b[39m.\u001b[39mrelease()\n",
      "File \u001b[0;32m~/tf28/lib/python3.9/site-packages/tensorflow/python/eager/function.py:2956\u001b[0m, in \u001b[0;36mFunction.__call__\u001b[0;34m(self, *args, **kwargs)\u001b[0m\n\u001b[1;32m   2953\u001b[0m \u001b[39mwith\u001b[39;00m \u001b[39mself\u001b[39m\u001b[39m.\u001b[39m_lock:\n\u001b[1;32m   2954\u001b[0m   (graph_function,\n\u001b[1;32m   2955\u001b[0m    filtered_flat_args) \u001b[39m=\u001b[39m \u001b[39mself\u001b[39m\u001b[39m.\u001b[39m_maybe_define_function(args, kwargs)\n\u001b[0;32m-> 2956\u001b[0m \u001b[39mreturn\u001b[39;00m graph_function\u001b[39m.\u001b[39;49m_call_flat(\n\u001b[1;32m   2957\u001b[0m     filtered_flat_args, captured_inputs\u001b[39m=\u001b[39;49mgraph_function\u001b[39m.\u001b[39;49mcaptured_inputs)\n",
      "File \u001b[0;32m~/tf28/lib/python3.9/site-packages/tensorflow/python/eager/function.py:1853\u001b[0m, in \u001b[0;36mConcreteFunction._call_flat\u001b[0;34m(self, args, captured_inputs, cancellation_manager)\u001b[0m\n\u001b[1;32m   1849\u001b[0m possible_gradient_type \u001b[39m=\u001b[39m gradients_util\u001b[39m.\u001b[39mPossibleTapeGradientTypes(args)\n\u001b[1;32m   1850\u001b[0m \u001b[39mif\u001b[39;00m (possible_gradient_type \u001b[39m==\u001b[39m gradients_util\u001b[39m.\u001b[39mPOSSIBLE_GRADIENT_TYPES_NONE\n\u001b[1;32m   1851\u001b[0m     \u001b[39mand\u001b[39;00m executing_eagerly):\n\u001b[1;32m   1852\u001b[0m   \u001b[39m# No tape is watching; skip to running the function.\u001b[39;00m\n\u001b[0;32m-> 1853\u001b[0m   \u001b[39mreturn\u001b[39;00m \u001b[39mself\u001b[39m\u001b[39m.\u001b[39m_build_call_outputs(\u001b[39mself\u001b[39;49m\u001b[39m.\u001b[39;49m_inference_function\u001b[39m.\u001b[39;49mcall(\n\u001b[1;32m   1854\u001b[0m       ctx, args, cancellation_manager\u001b[39m=\u001b[39;49mcancellation_manager))\n\u001b[1;32m   1855\u001b[0m forward_backward \u001b[39m=\u001b[39m \u001b[39mself\u001b[39m\u001b[39m.\u001b[39m_select_forward_and_backward_functions(\n\u001b[1;32m   1856\u001b[0m     args,\n\u001b[1;32m   1857\u001b[0m     possible_gradient_type,\n\u001b[1;32m   1858\u001b[0m     executing_eagerly)\n\u001b[1;32m   1859\u001b[0m forward_function, args_with_tangents \u001b[39m=\u001b[39m forward_backward\u001b[39m.\u001b[39mforward()\n",
      "File \u001b[0;32m~/tf28/lib/python3.9/site-packages/tensorflow/python/eager/function.py:499\u001b[0m, in \u001b[0;36m_EagerDefinedFunction.call\u001b[0;34m(self, ctx, args, cancellation_manager)\u001b[0m\n\u001b[1;32m    497\u001b[0m \u001b[39mwith\u001b[39;00m _InterpolateFunctionError(\u001b[39mself\u001b[39m):\n\u001b[1;32m    498\u001b[0m   \u001b[39mif\u001b[39;00m cancellation_manager \u001b[39mis\u001b[39;00m \u001b[39mNone\u001b[39;00m:\n\u001b[0;32m--> 499\u001b[0m     outputs \u001b[39m=\u001b[39m execute\u001b[39m.\u001b[39;49mexecute(\n\u001b[1;32m    500\u001b[0m         \u001b[39mstr\u001b[39;49m(\u001b[39mself\u001b[39;49m\u001b[39m.\u001b[39;49msignature\u001b[39m.\u001b[39;49mname),\n\u001b[1;32m    501\u001b[0m         num_outputs\u001b[39m=\u001b[39;49m\u001b[39mself\u001b[39;49m\u001b[39m.\u001b[39;49m_num_outputs,\n\u001b[1;32m    502\u001b[0m         inputs\u001b[39m=\u001b[39;49margs,\n\u001b[1;32m    503\u001b[0m         attrs\u001b[39m=\u001b[39;49mattrs,\n\u001b[1;32m    504\u001b[0m         ctx\u001b[39m=\u001b[39;49mctx)\n\u001b[1;32m    505\u001b[0m   \u001b[39melse\u001b[39;00m:\n\u001b[1;32m    506\u001b[0m     outputs \u001b[39m=\u001b[39m execute\u001b[39m.\u001b[39mexecute_with_cancellation(\n\u001b[1;32m    507\u001b[0m         \u001b[39mstr\u001b[39m(\u001b[39mself\u001b[39m\u001b[39m.\u001b[39msignature\u001b[39m.\u001b[39mname),\n\u001b[1;32m    508\u001b[0m         num_outputs\u001b[39m=\u001b[39m\u001b[39mself\u001b[39m\u001b[39m.\u001b[39m_num_outputs,\n\u001b[0;32m   (...)\u001b[0m\n\u001b[1;32m    511\u001b[0m         ctx\u001b[39m=\u001b[39mctx,\n\u001b[1;32m    512\u001b[0m         cancellation_manager\u001b[39m=\u001b[39mcancellation_manager)\n",
      "File \u001b[0;32m~/tf28/lib/python3.9/site-packages/tensorflow/python/eager/execute.py:54\u001b[0m, in \u001b[0;36mquick_execute\u001b[0;34m(op_name, num_outputs, inputs, attrs, ctx, name)\u001b[0m\n\u001b[1;32m     52\u001b[0m \u001b[39mtry\u001b[39;00m:\n\u001b[1;32m     53\u001b[0m   ctx\u001b[39m.\u001b[39mensure_initialized()\n\u001b[0;32m---> 54\u001b[0m   tensors \u001b[39m=\u001b[39m pywrap_tfe\u001b[39m.\u001b[39;49mTFE_Py_Execute(ctx\u001b[39m.\u001b[39;49m_handle, device_name, op_name,\n\u001b[1;32m     55\u001b[0m                                       inputs, attrs, num_outputs)\n\u001b[1;32m     56\u001b[0m \u001b[39mexcept\u001b[39;00m core\u001b[39m.\u001b[39m_NotOkStatusException \u001b[39mas\u001b[39;00m e:\n\u001b[1;32m     57\u001b[0m   \u001b[39mif\u001b[39;00m name \u001b[39mis\u001b[39;00m \u001b[39mnot\u001b[39;00m \u001b[39mNone\u001b[39;00m:\n",
      "\u001b[0;31mKeyboardInterrupt\u001b[0m: "
     ]
    }
   ],
   "source": [
    "history = model.fit(train_generator,\n",
    "                    steps_per_epoch=len(train_generator), \n",
    "                    epochs=500,\n",
    "                    validation_data=valid_generator,\n",
    "                    validation_steps=len(valid_generator))"
   ]
  },
  {
   "cell_type": "code",
   "execution_count": 13,
   "metadata": {},
   "outputs": [
    {
     "ename": "NameError",
     "evalue": "name 'history' is not defined",
     "output_type": "error",
     "traceback": [
      "\u001b[0;31m---------------------------------------------------------------------------\u001b[0m",
      "\u001b[0;31mNameError\u001b[0m                                 Traceback (most recent call last)",
      "Cell \u001b[0;32mIn [13], line 1\u001b[0m\n\u001b[0;32m----> 1\u001b[0m acc \u001b[38;5;241m=\u001b[39m history\u001b[38;5;241m.\u001b[39mhistory[\u001b[38;5;124m'\u001b[39m\u001b[38;5;124maccuracy\u001b[39m\u001b[38;5;124m'\u001b[39m]\n\u001b[1;32m      2\u001b[0m val_acc \u001b[38;5;241m=\u001b[39m history\u001b[38;5;241m.\u001b[39mhistory[\u001b[38;5;124m'\u001b[39m\u001b[38;5;124mval_accuracy\u001b[39m\u001b[38;5;124m'\u001b[39m]\n\u001b[1;32m      4\u001b[0m loss \u001b[38;5;241m=\u001b[39m history\u001b[38;5;241m.\u001b[39mhistory[\u001b[38;5;124m'\u001b[39m\u001b[38;5;124mloss\u001b[39m\u001b[38;5;124m'\u001b[39m]\n",
      "\u001b[0;31mNameError\u001b[0m: name 'history' is not defined"
     ]
    }
   ],
   "source": [
    "acc = history.history['accuracy']\n",
    "val_acc = history.history['val_accuracy']\n",
    "\n",
    "loss = history.history['loss']\n",
    "val_loss = history.history['val_loss']\n",
    "\n",
    "plt.figure(figsize=(8, 8))\n",
    "plt.subplot(2, 1, 1)\n",
    "plt.plot(acc, label='Training Accuracy')\n",
    "plt.plot(val_acc, label='Validation Accuracy')\n",
    "plt.legend(loc='lower right')\n",
    "plt.ylabel('Accuracy')\n",
    "plt.ylim([min(plt.ylim()),1])\n",
    "plt.title('Training and Validation Accuracy')\n",
    "\n",
    "plt.subplot(2, 1, 2)\n",
    "plt.plot(loss, label='Training Loss')\n",
    "plt.plot(val_loss, label='Validation Loss')\n",
    "plt.legend(loc='upper right')\n",
    "plt.ylabel('Cross Entropy')\n",
    "plt.ylim([0,1.0])\n",
    "plt.title('Training and Validation Loss')\n",
    "plt.xlabel('epoch')\n",
    "plt.show()"
   ]
  },
  {
   "cell_type": "code",
   "execution_count": null,
   "metadata": {},
   "outputs": [
    {
     "name": "stdout",
     "output_type": "stream",
     "text": [
      "Number of layers in the base model:  154\n"
     ]
    }
   ],
   "source": [
    "print(\"Number of layers in the base model: \", len(base_model.layers))"
   ]
  },
  {
   "cell_type": "code",
   "execution_count": null,
   "metadata": {},
   "outputs": [],
   "source": [
    "base_model.trainable = True\n",
    "fine_tune_at = 100\n",
    "\n",
    "# Freeze all the layers before the `fine_tune_at` layer\n",
    "for layer in base_model.layers[:fine_tune_at]:\n",
    "  layer.trainable =  False"
   ]
  },
  {
   "cell_type": "code",
   "execution_count": null,
   "metadata": {},
   "outputs": [],
   "source": [
    "model.compile(optimizer=tf.keras.optimizers.Adam(1e-5),\n",
    "              loss='categorical_crossentropy',\n",
    "              metrics=['accuracy'])"
   ]
  },
  {
   "cell_type": "code",
   "execution_count": null,
   "metadata": {},
   "outputs": [
    {
     "name": "stdout",
     "output_type": "stream",
     "text": [
      "Number of trainable weights = 58\n"
     ]
    }
   ],
   "source": [
    "print('Number of trainable weights = {}'.format(len(model.trainable_weights)))"
   ]
  },
  {
   "cell_type": "code",
   "execution_count": null,
   "metadata": {},
   "outputs": [
    {
     "name": "stdout",
     "output_type": "stream",
     "text": [
      "Epoch 1/5\n",
      "452/452 [==============================] - 28s 58ms/step - loss: 0.2249 - accuracy: 0.9443 - val_loss: 0.0417 - val_accuracy: 0.9895\n",
      "Epoch 2/5\n",
      "452/452 [==============================] - 26s 57ms/step - loss: 0.0595 - accuracy: 0.9805 - val_loss: 0.0245 - val_accuracy: 0.9928\n",
      "Epoch 3/5\n",
      "452/452 [==============================] - 26s 57ms/step - loss: 0.0318 - accuracy: 0.9896 - val_loss: 0.0199 - val_accuracy: 0.9933\n",
      "Epoch 4/5\n",
      "452/452 [==============================] - 26s 57ms/step - loss: 0.0192 - accuracy: 0.9938 - val_loss: 0.0152 - val_accuracy: 0.9953\n",
      "Epoch 5/5\n",
      "452/452 [==============================] - 26s 57ms/step - loss: 0.0150 - accuracy: 0.9952 - val_loss: 0.0164 - val_accuracy: 0.9956\n"
     ]
    }
   ],
   "source": [
    "history_fine = model.fit(train_generator,\n",
    "                         steps_per_epoch=len(train_generator), \n",
    "                         epochs=250,\n",
    "                         validation_data=valid_generator,\n",
    "                         validation_steps=len(valid_generator))"
   ]
  },
  {
   "cell_type": "code",
   "execution_count": null,
   "metadata": {},
   "outputs": [
    {
     "data": {
      "image/png": "[encoded data removed]",
      "text/plain": [
       "<Figure size 800x800 with 2 Axes>"
      ]
     },
     "metadata": {},
     "output_type": "display_data"
    }
   ],
   "source": [
    "acc = history_fine.history['accuracy']\n",
    "val_acc = history_fine.history['val_accuracy']\n",
    "\n",
    "loss = history_fine.history['loss']\n",
    "val_loss = history_fine.history['val_loss']\n",
    "\n",
    "plt.figure(figsize=(8, 8))\n",
    "plt.subplot(2, 1, 1)\n",
    "plt.plot(acc, label='Training Accuracy')\n",
    "plt.plot(val_acc, label='Validation Accuracy')\n",
    "plt.legend(loc='lower right')\n",
    "plt.ylabel('Accuracy')\n",
    "plt.ylim([min(plt.ylim()),1])\n",
    "plt.title('Training and Validation Accuracy')\n",
    "\n",
    "plt.subplot(2, 1, 2)\n",
    "plt.plot(loss, label='Training Loss')\n",
    "plt.plot(val_loss, label='Validation Loss')\n",
    "plt.legend(loc='upper right')\n",
    "plt.ylabel('Cross Entropy')\n",
    "plt.ylim([0,1.0])\n",
    "plt.title('Training and Validation Loss')\n",
    "plt.xlabel('epoch')\n",
    "plt.show()"
   ]
  },
  {
   "cell_type": "code",
   "execution_count": null,
   "metadata": {},
   "outputs": [],
   "source": [
    "os.chdir(\"/home/jwjang/project_tf28/\")"
   ]
  },
  {
   "cell_type": "code",
   "execution_count": null,
   "metadata": {},
   "outputs": [
    {
     "name": "stderr",
     "output_type": "stream",
     "text": [
      "WARNING:absl:Function `_wrapped_model` contains input name(s) mobilenetv2_1.00_224_input with unsupported characters which will be renamed to mobilenetv2_1_00_224_input in the SavedModel.\n"
     ]
    },
    {
     "name": "stdout",
     "output_type": "stream",
     "text": [
      "INFO:tensorflow:Assets written to: /tmp/tmpj43g8iho/assets\n"
     ]
    },
    {
     "name": "stderr",
     "output_type": "stream",
     "text": [
      "INFO:tensorflow:Assets written to: /tmp/tmpj43g8iho/assets\n",
      "2022-10-28 21:20:56.725845: W tensorflow/compiler/mlir/lite/python/tf_tfl_flatbuffer_helpers.cc:357] Ignored output_format.\n",
      "2022-10-28 21:20:56.725882: W tensorflow/compiler/mlir/lite/python/tf_tfl_flatbuffer_helpers.cc:360] Ignored drop_control_dependency.\n"
     ]
    }
   ],
   "source": [
    "converter = tf.lite.TFLiteConverter.from_keras_model(model)\n",
    "tflite_model = converter.convert()\n",
    "\n",
    "with open('mobilenet.tflite', 'wb') as f:\n",
    "  f.write(tflite_model)"
   ]
  },
  {
   "cell_type": "code",
   "execution_count": null,
   "metadata": {},
   "outputs": [
    {
     "name": "stderr",
     "output_type": "stream",
     "text": [
      "WARNING:absl:Function `_wrapped_model` contains input name(s) mobilenetv2_1.00_224_input with unsupported characters which will be renamed to mobilenetv2_1_00_224_input in the SavedModel.\n"
     ]
    },
    {
     "name": "stdout",
     "output_type": "stream",
     "text": [
      "INFO:tensorflow:Assets written to: /tmp/tmpiw5cm70q/assets\n"
     ]
    },
    {
     "name": "stderr",
     "output_type": "stream",
     "text": [
      "INFO:tensorflow:Assets written to: /tmp/tmpiw5cm70q/assets\n",
      "/home/jwjang/tf28/lib/python3.9/site-packages/tensorflow/lite/python/convert.py:746: UserWarning: Statistics for quantized inputs were expected, but not specified; continuing anyway.\n",
      "  warnings.warn(\"Statistics for quantized inputs were expected, but not \"\n",
      "2022-10-28 21:21:26.612079: W tensorflow/compiler/mlir/lite/python/tf_tfl_flatbuffer_helpers.cc:357] Ignored output_format.\n",
      "2022-10-28 21:21:26.612112: W tensorflow/compiler/mlir/lite/python/tf_tfl_flatbuffer_helpers.cc:360] Ignored drop_control_dependency.\n",
      "fully_quantize: 0, inference_type: 6, input_inference_type: 3, output_inference_type: 3\n"
     ]
    }
   ],
   "source": [
    "# A generator that provides a representative dataset\n",
    "def representative_data_gen():\n",
    "  dataset_list = tf.data.Dataset.list_files(IMAGE_PATH + '*/*')\n",
    "  for i in range(100):\n",
    "    image = next(iter(dataset_list))\n",
    "    image = tf.io.read_file(image)\n",
    "    image = tf.io.decode_jpeg(image, channels=3)\n",
    "    image = tf.image.resize(image, [IMAGE_SIZE, IMAGE_SIZE])\n",
    "    image = tf.cast(image / 255., tf.float32)\n",
    "    image = tf.expand_dims(image, 0)\n",
    "    yield [image]\n",
    "\n",
    "converter = tf.lite.TFLiteConverter.from_keras_model(model)\n",
    "# This enables quantization\n",
    "converter.optimizations = [tf.lite.Optimize.DEFAULT]\n",
    "# This sets the representative dataset for quantization\n",
    "converter.representative_dataset = representative_data_gen\n",
    "# This ensures that if any ops can't be quantized, the converter throws an error\n",
    "converter.target_spec.supported_ops = [tf.lite.OpsSet.TFLITE_BUILTINS_INT8]\n",
    "# For full integer quantization, though supported types defaults to int8 only, we explicitly declare it for clarity.\n",
    "converter.target_spec.supported_types = [tf.int8]\n",
    "# These set the input and output tensors to uint8 (added in r2.3)\n",
    "converter.inference_input_type = tf.uint8\n",
    "converter.inference_output_type = tf.uint8\n",
    "tflite_model = converter.convert()\n",
    "\n",
    "with open('mobilenet_v2_1.0_224_quant.tflite', 'wb') as f:\n",
    "  f.write(tflite_model)"
   ]
  },
  {
   "cell_type": "code",
   "execution_count": null,
   "metadata": {},
   "outputs": [],
   "source": []
  }
 ],
 "metadata": {
  "kernelspec": {
   "display_name": "Python 3.9.12 ('tf28': venv)",
   "language": "python",
   "name": "python3"
  },
  "language_info": {
   "codemirror_mode": {
    "name": "ipython",
    "version": 3
   },
   "file_extension": ".py",
   "mimetype": "text/x-python",
   "name": "python",
   "nbconvert_exporter": "python",
   "pygments_lexer": "ipython3",
   "version": "3.9.12"
  },
  "orig_nbformat": 4,
  "vscode": {
   "interpreter": {
    "hash": "8ff47e74969728d1e5fc1962dad0387ecc410d0fcfbd55b6901293060d9026b6"
   }
  }
 },
 "nbformat": 4,
 "nbformat_minor": 2
}
