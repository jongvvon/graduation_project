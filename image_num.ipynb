{
 "cells": [
  {
   "cell_type": "code",
   "execution_count": 13,
   "metadata": {},
   "outputs": [],
   "source": [
    "import os"
   ]
  },
  {
   "cell_type": "code",
   "execution_count": 14,
   "metadata": {},
   "outputs": [
    {
     "data": {
      "text/plain": [
       "['fanta_orange',\n",
       " 'demisoda_apple',\n",
       " 'powerade',\n",
       " 'gatorade',\n",
       " '2%_peach',\n",
       " 'coca_cola',\n",
       " 'pepsi',\n",
       " 'dr_pepper',\n",
       " 'pocari_sweat',\n",
       " 'chilsung_cider',\n",
       " 'welchs_grape']"
      ]
     },
     "execution_count": 14,
     "metadata": {},
     "output_type": "execute_result"
    }
   ],
   "source": [
    "FILE_PATH = '/home/jwjang/project_tf28/data/image/'\n",
    "LABEL_NAME = os.listdir(FILE_PATH)\n",
    "LABEL_NAME"
   ]
  },
  {
   "cell_type": "code",
   "execution_count": 15,
   "metadata": {},
   "outputs": [],
   "source": [
    "for label in LABEL_NAME:\n",
    "    i = 1\n",
    "    IMAGE_NAME = os.listdir(FILE_PATH + label)\n",
    "\n",
    "    for name in IMAGE_NAME:\n",
    "        IMAGE_PATH = FILE_PATH + label\n",
    "        src = os.path.join(IMAGE_PATH, name)\n",
    "        dst = label + '_' + '%04d' % i + '.jpg'\n",
    "        dst = os.path.join(IMAGE_PATH, dst)\n",
    "        os.rename(src, dst)\n",
    "        i += 1"
   ]
  },
  {
   "cell_type": "code",
   "execution_count": null,
   "metadata": {},
   "outputs": [],
   "source": []
  }
 ],
 "metadata": {
  "kernelspec": {
   "display_name": "Python 3 (ipykernel)",
   "language": "python",
   "name": "python3"
  },
  "language_info": {
   "codemirror_mode": {
    "name": "ipython",
    "version": 3
   },
   "file_extension": ".py",
   "mimetype": "text/x-python",
   "name": "python",
   "nbconvert_exporter": "python",
   "pygments_lexer": "ipython3",
   "version": "3.9.12"
  },
  "orig_nbformat": 4,
  "vscode": {
   "interpreter": {
    "hash": "31f2aee4e71d21fbe5cf8b01ff0e069b9275f58929596ceb00d14d90e3e16cd6"
   }
  }
 },
 "nbformat": 4,
 "nbformat_minor": 2
}
