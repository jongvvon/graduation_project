{
  "cells": [
    {
      "cell_type": "markdown",
      "metadata": {
        "colab_type": "text",
        "id": "HD5UTeY_hoZr"
      },
      "source": [
        "# Keras Model"
      ]
    },
    {
      "cell_type": "markdown",
      "metadata": {
        "colab_type": "text",
        "id": "t82j68dgwtwL"
      },
      "source": [
        "## Model 준비"
      ]
    },
    {
      "cell_type": "markdown",
      "metadata": {
        "colab_type": "text",
        "id": "YlRPTCl3u6ZJ"
      },
      "source": [
        "### 시간 측정"
      ]
    },
    {
      "cell_type": "code",
      "execution_count": 59,
      "metadata": {
        "colab": {
          "base_uri": "https://localhost:8080/",
          "height": 89
        },
        "colab_type": "code",
        "id": "7tdeeVzLo042",
        "outputId": "ca59b008-50b6-41dc-f1f3-108e322bfcc7"
      },
      "outputs": [
        {
          "name": "stdout",
          "output_type": "stream",
          "text": [
            "Requirement already satisfied: ipython-autotime in /home/jwjang/tf28/lib/python3.9/site-packages (0.3.1)\n",
            "Requirement already satisfied: ipython in /home/jwjang/tf28/lib/python3.9/site-packages (from ipython-autotime) (8.5.0)\n",
            "Requirement already satisfied: pygments>=2.4.0 in /home/jwjang/tf28/lib/python3.9/site-packages (from ipython->ipython-autotime) (2.13.0)\n",
            "Requirement already satisfied: pickleshare in /home/jwjang/tf28/lib/python3.9/site-packages (from ipython->ipython-autotime) (0.7.5)\n",
            "Requirement already satisfied: jedi>=0.16 in /home/jwjang/tf28/lib/python3.9/site-packages (from ipython->ipython-autotime) (0.18.1)\n",
            "Requirement already satisfied: backcall in /home/jwjang/tf28/lib/python3.9/site-packages (from ipython->ipython-autotime) (0.2.0)\n",
            "Requirement already satisfied: prompt-toolkit<3.1.0,>3.0.1 in /home/jwjang/tf28/lib/python3.9/site-packages (from ipython->ipython-autotime) (3.0.31)\n",
            "Requirement already satisfied: matplotlib-inline in /home/jwjang/tf28/lib/python3.9/site-packages (from ipython->ipython-autotime) (0.1.6)\n",
            "Requirement already satisfied: stack-data in /home/jwjang/tf28/lib/python3.9/site-packages (from ipython->ipython-autotime) (0.5.1)\n",
            "Requirement already satisfied: traitlets>=5 in /home/jwjang/tf28/lib/python3.9/site-packages (from ipython->ipython-autotime) (5.4.0)\n",
            "Requirement already satisfied: decorator in /home/jwjang/tf28/lib/python3.9/site-packages (from ipython->ipython-autotime) (5.1.1)\n",
            "Requirement already satisfied: pexpect>4.3 in /home/jwjang/tf28/lib/python3.9/site-packages (from ipython->ipython-autotime) (4.8.0)\n",
            "Requirement already satisfied: parso<0.9.0,>=0.8.0 in /home/jwjang/tf28/lib/python3.9/site-packages (from jedi>=0.16->ipython->ipython-autotime) (0.8.3)\n",
            "Requirement already satisfied: ptyprocess>=0.5 in /home/jwjang/tf28/lib/python3.9/site-packages (from pexpect>4.3->ipython->ipython-autotime) (0.7.0)\n",
            "Requirement already satisfied: wcwidth in /home/jwjang/tf28/lib/python3.9/site-packages (from prompt-toolkit<3.1.0,>3.0.1->ipython->ipython-autotime) (0.2.5)\n",
            "Requirement already satisfied: pure-eval in /home/jwjang/tf28/lib/python3.9/site-packages (from stack-data->ipython->ipython-autotime) (0.2.2)\n",
            "Requirement already satisfied: asttokens in /home/jwjang/tf28/lib/python3.9/site-packages (from stack-data->ipython->ipython-autotime) (2.0.8)\n",
            "Requirement already satisfied: executing in /home/jwjang/tf28/lib/python3.9/site-packages (from stack-data->ipython->ipython-autotime) (1.1.0)\n",
            "Requirement already satisfied: six in /home/jwjang/tf28/lib/python3.9/site-packages (from asttokens->stack-data->ipython->ipython-autotime) (1.16.0)\n",
            "The autotime extension is already loaded. To reload it, use:\n",
            "  %reload_ext autotime\n",
            "time: 1.55 s (started: 2022-10-21 20:00:14 +09:00)\n"
          ]
        }
      ],
      "source": [
        "!pip install ipython-autotime\n",
        "%load_ext autotime"
      ]
    },
    {
      "cell_type": "markdown",
      "metadata": {
        "colab_type": "text",
        "id": "vpItxtm1vA6Y"
      },
      "source": [
        "### directiory 설정\n",
        "\n",
        "\n",
        "*   상황에 맞게 수정\n",
        "\n",
        "\n"
      ]
    },
    {
      "cell_type": "code",
      "execution_count": 60,
      "metadata": {
        "colab": {
          "base_uri": "https://localhost:8080/",
          "height": 53
        },
        "colab_type": "code",
        "id": "unNGpNj0KqPJ",
        "outputId": "69349fa3-aa23-4133-bb84-87cd66efa4a6"
      },
      "outputs": [
        {
          "name": "stdout",
          "output_type": "stream",
          "text": [
            "/home/jwjang/project_tf28\n",
            "time: 1.73 ms (started: 2022-10-21 20:00:17 +09:00)\n"
          ]
        }
      ],
      "source": [
        "%cd /home/jwjang/project_tf28"
      ]
    },
    {
      "cell_type": "markdown",
      "metadata": {
        "colab_type": "text",
        "id": "RIi_lwZZvEqj"
      },
      "source": [
        "### library 설치"
      ]
    },
    {
      "cell_type": "code",
      "execution_count": 61,
      "metadata": {
        "colab": {
          "base_uri": "https://localhost:8080/",
          "height": 53
        },
        "colab_type": "code",
        "id": "Dz9B4X3_hNDm",
        "outputId": "d4050884-0916-4e67-8f39-4d7007438e82"
      },
      "outputs": [
        {
          "name": "stdout",
          "output_type": "stream",
          "text": [
            "2.8.0\n",
            "time: 719 µs (started: 2022-10-21 20:00:19 +09:00)\n"
          ]
        }
      ],
      "source": [
        "import tensorflow as tf\n",
        "from tensorflow import keras\n",
        "import os\n",
        "import numpy as np\n",
        "import matplotlib.pyplot as plt\n",
        "print(tf.__version__)"
      ]
    },
    {
      "cell_type": "markdown",
      "metadata": {
        "colab_type": "text",
        "id": "T4j6DSZUXc37"
      },
      "source": [
        "## Model 설정\n",
        "\n",
        "\n",
        "\n",
        "*   dataset은 beverage 폴더 안에 train, validation으로 나눠서 넣어야 합니다.\n",
        "\n",
        "\n",
        "\n"
      ]
    },
    {
      "cell_type": "code",
      "execution_count": 62,
      "metadata": {
        "colab": {
          "base_uri": "https://localhost:8080/",
          "height": 35
        },
        "colab_type": "code",
        "id": "3FA6VfrtXcHm",
        "outputId": "d9c21055-ff30-4d98-fa71-b1dd10ea53f6"
      },
      "outputs": [
        {
          "name": "stdout",
          "output_type": "stream",
          "text": [
            "time: 524 µs (started: 2022-10-21 20:00:20 +09:00)\n"
          ]
        }
      ],
      "source": [
        "#batch_size, img_height, img_width 설정\n",
        "batch_size = 32\n",
        "img_height = 224\n",
        "img_width = 224"
      ]
    },
    {
      "cell_type": "code",
      "execution_count": 63,
      "metadata": {
        "colab": {
          "base_uri": "https://localhost:8080/",
          "height": 35
        },
        "colab_type": "code",
        "id": "XJfTVw2sZ6NV",
        "outputId": "fac30df2-8ddb-4203-f2c2-1c7e13897083"
      },
      "outputs": [
        {
          "name": "stdout",
          "output_type": "stream",
          "text": [
            "time: 759 µs (started: 2022-10-21 20:00:21 +09:00)\n"
          ]
        }
      ],
      "source": [
        "#경로 설정\n",
        "execution_path = os.getcwd()\n",
        "beverage_path = os.path.join(execution_path, 'output')\n",
        "train_dir = os.path.join(beverage_path, 'train')\n",
        "validation_dir = os.path.join(beverage_path, 'val')"
      ]
    },
    {
      "cell_type": "code",
      "execution_count": 64,
      "metadata": {},
      "outputs": [
        {
          "data": {
            "text/plain": [
              "'/home/jwjang/project_tf28/output/train'"
            ]
          },
          "execution_count": 64,
          "metadata": {},
          "output_type": "execute_result"
        },
        {
          "name": "stdout",
          "output_type": "stream",
          "text": [
            "time: 2.58 ms (started: 2022-10-21 20:00:22 +09:00)\n"
          ]
        }
      ],
      "source": [
        "train_dir"
      ]
    },
    {
      "cell_type": "code",
      "execution_count": 65,
      "metadata": {
        "colab": {
          "base_uri": "https://localhost:8080/",
          "height": 71
        },
        "colab_type": "code",
        "id": "9pWVDH6SXcKJ",
        "outputId": "377192a3-b20f-49a2-ea46-0bc8a2d3d794"
      },
      "outputs": [
        {
          "name": "stdout",
          "output_type": "stream",
          "text": [
            "Found 694 files belonging to 8 classes.\n",
            "Found 177 files belonging to 8 classes.\n",
            "time: 78 ms (started: 2022-10-21 20:00:23 +09:00)\n"
          ]
        }
      ],
      "source": [
        "#데이터 셋 불러오기\n",
        "train_ds = tf.keras.preprocessing.image_dataset_from_directory(train_dir, image_size=(img_height,img_width), batch_size=batch_size)\n",
        "val_ds = tf.keras.preprocessing.image_dataset_from_directory(validation_dir, image_size=(img_height,img_width), batch_size=batch_size)"
      ]
    },
    {
      "cell_type": "code",
      "execution_count": 66,
      "metadata": {
        "colab": {
          "base_uri": "https://localhost:8080/",
          "height": 53
        },
        "colab_type": "code",
        "id": "9ik1rJAva0ri",
        "outputId": "ea512e67-9734-4558-b01e-27bf016a6df4"
      },
      "outputs": [
        {
          "name": "stdout",
          "output_type": "stream",
          "text": [
            "['chilsung cider can', 'coca cola can', 'demisoda apple can', 'dr pepper can', 'gatorade can', 'pepsi can', 'pocari sweat can', 'powerade can']\n",
            "time: 547 µs (started: 2022-10-21 20:00:24 +09:00)\n"
          ]
        }
      ],
      "source": [
        "#class 확인\n",
        "class_names = train_ds.class_names\n",
        "print(class_names)"
      ]
    },
    {
      "cell_type": "markdown",
      "metadata": {
        "colab_type": "text",
        "id": "WPAmvUYIcrli"
      },
      "source": [
        "## Model 학습\n"
      ]
    },
    {
      "cell_type": "markdown",
      "metadata": {
        "colab_type": "text",
        "id": "4sBcacSh95Fv"
      },
      "source": [
        "\n",
        "```\n",
        "tf.keras.applications.InceptionResNetV2(\n",
        "    include_top=True, weights=None, input_shape=(224,224,3),classes=10, classifier_activation='softmax')\n",
        "```\n",
        "\n",
        "\n",
        "```\n",
        "tf.keras.applications.MobileNetV2(\n",
        "  input_shape=(224,224,3), alpha=1.0, include_top=True, weights=None,\n",
        "    input_tensor=None, pooling=None, classes=10, classifier_activation='softmax')\n",
        "```\n",
        "\n",
        "\n",
        "\n"
      ]
    },
    {
      "cell_type": "markdown",
      "metadata": {
        "colab_type": "text",
        "id": "l0T0fG2xw7-s"
      },
      "source": [
        "### 처음부터 학습하기"
      ]
    },
    {
      "cell_type": "code",
      "execution_count": 67,
      "metadata": {
        "colab": {},
        "colab_type": "code",
        "id": "JQgHezLjM4hL"
      },
      "outputs": [
        {
          "name": "stdout",
          "output_type": "stream",
          "text": [
            "time: 842 µs (started: 2022-10-21 20:00:27 +09:00)\n"
          ]
        }
      ],
      "source": [
        "from keras.callbacks import CSVLogger\n",
        "csv_logger = CSVLogger('./log.csv',append=True, separator=';')\n",
        "callbacks = keras.callbacks.ModelCheckpoint(\"MobileNet_{epoch}.h5\", monitor='val_loss', verbose=1, save_best_only=True)"
      ]
    },
    {
      "cell_type": "code",
      "execution_count": 68,
      "metadata": {
        "colab": {
          "base_uri": "https://localhost:8080/",
          "height": 35
        },
        "colab_type": "code",
        "id": "oiX0aBLKcmwX",
        "outputId": "8ea61c08-aa8d-4a68-8d2c-ddc763c65489"
      },
      "outputs": [
        {
          "name": "stdout",
          "output_type": "stream",
          "text": [
            "time: 481 ms (started: 2022-10-21 20:00:38 +09:00)\n"
          ]
        }
      ],
      "source": [
        "model = tf.keras.applications.MobileNetV2(input_shape=(224,224,3), classes=10, weights=None, classifier_activation='softmax')\n",
        "model.compile(optimizer='adam', loss=tf.losses.SparseCategoricalCrossentropy(from_logits=True), metrics=['accuracy'])"
      ]
    },
    {
      "cell_type": "code",
      "execution_count": 69,
      "metadata": {
        "colab": {
          "base_uri": "https://localhost:8080/",
          "height": 35
        },
        "colab_type": "code",
        "id": "70kHmhU6c2VJ",
        "outputId": "b86abf5a-cc60-455b-8a7b-65f56ced5d9f"
      },
      "outputs": [
        {
          "name": "stderr",
          "output_type": "stream",
          "text": [
            "/home/jwjang/tf28/lib/python3.9/site-packages/tensorflow/python/util/dispatch.py:1082: UserWarning: \"`sparse_categorical_crossentropy` received `from_logits=True`, but the `output` argument was produced by a sigmoid or softmax activation and thus does not represent logits. Was this intended?\"\n",
            "  return dispatch_target(*args, **kwargs)\n"
          ]
        },
        {
          "name": "stdout",
          "output_type": "stream",
          "text": [
            "22/22 [==============================] - ETA: 0s - loss: 1.6187 - accuracy: 0.4236\n",
            "Epoch 1: val_loss improved from inf to 2.27618, saving model to MobileNet_1.h5\n",
            "22/22 [==============================] - 7s 214ms/step - loss: 1.6187 - accuracy: 0.4236 - val_loss: 2.2762 - val_accuracy: 0.1638\n",
            "time: 7.06 s (started: 2022-10-21 20:00:39 +09:00)\n"
          ]
        }
      ],
      "source": [
        "hist = model.fit(train_ds, validation_data = val_ds, batch_size=batch_size, epochs=1, callbacks=[csv_logger, callbacks]) #상황에 맞게 수정"
      ]
    },
    {
      "cell_type": "markdown",
      "metadata": {
        "colab_type": "text",
        "id": "1eZdWhLFcnNd"
      },
      "source": [
        "### 이어서 학습하기\n"
      ]
    },
    {
      "cell_type": "code",
      "execution_count": 51,
      "metadata": {
        "colab": {},
        "colab_type": "code",
        "id": "GyPD-uIHNJBn"
      },
      "outputs": [
        {
          "name": "stdout",
          "output_type": "stream",
          "text": [
            "time: 713 µs (started: 2022-10-21 19:51:07 +09:00)\n"
          ]
        }
      ],
      "source": [
        "from keras.callbacks import CSVLogger\n",
        "csv_logger = CSVLogger('./log.csv',append=True, separator=';')\n",
        "callbacks = keras.callbacks.ModelCheckpoint(\"MobileNet_{epoch}.h5\", monitor='val_loss', verbose=1, save_best_only=True)"
      ]
    },
    {
      "cell_type": "code",
      "execution_count": 70,
      "metadata": {
        "colab": {
          "base_uri": "https://localhost:8080/",
          "height": 35
        },
        "colab_type": "code",
        "id": "p21sCiXIbkXs",
        "outputId": "c5b005e7-6e42-4fd0-d56f-31d96a108c2e"
      },
      "outputs": [
        {
          "name": "stdout",
          "output_type": "stream",
          "text": [
            "time: 589 ms (started: 2022-10-21 20:01:06 +09:00)\n"
          ]
        }
      ],
      "source": [
        "model = tf.keras.applications.MobileNetV2(input_shape=(224,224,3), weights=None,classes=10, classifier_activation='softmax')\n",
        "model.load_weights(execution_path+'/'+'MobileNet_1.h5') #상황에 맞게 수정\n",
        "model.compile(optimizer='adam', loss=tf.losses.SparseCategoricalCrossentropy(from_logits=True), metrics=['accuracy'])"
      ]
    },
    {
      "cell_type": "code",
      "execution_count": 71,
      "metadata": {
        "colab": {
          "base_uri": "https://localhost:8080/",
          "height": 376
        },
        "colab_type": "code",
        "id": "-nLbejpScfB5",
        "outputId": "f9c47c83-4930-4d13-b2ae-f169a1f1b69d"
      },
      "outputs": [
        {
          "name": "stdout",
          "output_type": "stream",
          "text": [
            "Epoch 11/20\n",
            "22/22 [==============================] - ETA: 0s - loss: 1.1925 - accuracy: 0.5591\n",
            "Epoch 11: val_loss improved from 2.27618 to 2.25589, saving model to MobileNet_11.h5\n",
            "22/22 [==============================] - 7s 215ms/step - loss: 1.1925 - accuracy: 0.5591 - val_loss: 2.2559 - val_accuracy: 0.1638\n",
            "Epoch 12/20\n",
            "22/22 [==============================] - ETA: 0s - loss: 0.6830 - accuracy: 0.7493\n",
            "Epoch 12: val_loss improved from 2.25589 to 2.22138, saving model to MobileNet_12.h5\n",
            "22/22 [==============================] - 4s 193ms/step - loss: 0.6830 - accuracy: 0.7493 - val_loss: 2.2214 - val_accuracy: 0.1638\n",
            "Epoch 13/20\n",
            "22/22 [==============================] - ETA: 0s - loss: 0.4914 - accuracy: 0.8184\n",
            "Epoch 13: val_loss improved from 2.22138 to 2.18329, saving model to MobileNet_13.h5\n",
            "22/22 [==============================] - 4s 193ms/step - loss: 0.4914 - accuracy: 0.8184 - val_loss: 2.1833 - val_accuracy: 0.2034\n",
            "Epoch 14/20\n",
            "22/22 [==============================] - ETA: 0s - loss: 0.4801 - accuracy: 0.8372\n",
            "Epoch 14: val_loss improved from 2.18329 to 2.15355, saving model to MobileNet_14.h5\n",
            "22/22 [==============================] - 4s 195ms/step - loss: 0.4801 - accuracy: 0.8372 - val_loss: 2.1536 - val_accuracy: 0.2373\n",
            "Epoch 15/20\n",
            "22/22 [==============================] - ETA: 0s - loss: 0.5176 - accuracy: 0.8343\n",
            "Epoch 15: val_loss improved from 2.15355 to 2.13244, saving model to MobileNet_15.h5\n",
            "22/22 [==============================] - 4s 195ms/step - loss: 0.5176 - accuracy: 0.8343 - val_loss: 2.1324 - val_accuracy: 0.2373\n",
            "Epoch 16/20\n",
            "22/22 [==============================] - ETA: 0s - loss: 0.3705 - accuracy: 0.8559\n",
            "Epoch 16: val_loss improved from 2.13244 to 2.10945, saving model to MobileNet_16.h5\n",
            "22/22 [==============================] - 4s 193ms/step - loss: 0.3705 - accuracy: 0.8559 - val_loss: 2.1095 - val_accuracy: 0.1638\n",
            "Epoch 17/20\n",
            "22/22 [==============================] - ETA: 0s - loss: 0.3166 - accuracy: 0.8790\n",
            "Epoch 17: val_loss improved from 2.10945 to 2.10628, saving model to MobileNet_17.h5\n",
            "22/22 [==============================] - 4s 196ms/step - loss: 0.3166 - accuracy: 0.8790 - val_loss: 2.1063 - val_accuracy: 0.1638\n",
            "Epoch 18/20\n",
            "22/22 [==============================] - ETA: 0s - loss: 0.3750 - accuracy: 0.8674\n",
            "Epoch 18: val_loss improved from 2.10628 to 2.08891, saving model to MobileNet_18.h5\n",
            "22/22 [==============================] - 4s 195ms/step - loss: 0.3750 - accuracy: 0.8674 - val_loss: 2.0889 - val_accuracy: 0.1638\n",
            "Epoch 19/20\n",
            "22/22 [==============================] - ETA: 0s - loss: 0.2906 - accuracy: 0.8905\n",
            "Epoch 19: val_loss did not improve from 2.08891\n",
            "22/22 [==============================] - 4s 182ms/step - loss: 0.2906 - accuracy: 0.8905 - val_loss: 2.0970 - val_accuracy: 0.0452\n",
            "Epoch 20/20\n",
            "22/22 [==============================] - ETA: 0s - loss: 0.1883 - accuracy: 0.9424\n",
            "Epoch 20: val_loss did not improve from 2.08891\n",
            "22/22 [==============================] - 4s 181ms/step - loss: 0.1883 - accuracy: 0.9424 - val_loss: 2.1270 - val_accuracy: 0.0452\n",
            "time: 45.1 s (started: 2022-10-21 20:01:09 +09:00)\n"
          ]
        }
      ],
      "source": [
        "hist = model.fit(train_ds, validation_data = val_ds, batch_size=batch_size, epochs=20, callbacks=[csv_logger,callbacks], initial_epoch=10) #상황에 맞게 수정"
      ]
    },
    {
      "cell_type": "code",
      "execution_count": 54,
      "metadata": {
        "colab": {},
        "colab_type": "code",
        "id": "cz0C54Ek7sq8"
      },
      "outputs": [
        {
          "data": {
            "image/png": "[encoded data removed]",
            "text/plain": [
              "<Figure size 640x480 with 1 Axes>"
            ]
          },
          "metadata": {},
          "output_type": "display_data"
        },
        {
          "data": {
            "image/png": "[encoded data removed]",
            "text/plain": [
              "<Figure size 640x480 with 1 Axes>"
            ]
          },
          "metadata": {},
          "output_type": "display_data"
        },
        {
          "name": "stdout",
          "output_type": "stream",
          "text": [
            "time: 177 ms (started: 2022-10-21 19:51:53 +09:00)\n"
          ]
        }
      ],
      "source": [
        "# 6 훈련 과정 시각화 (정확도)\n",
        "plt.plot(hist.history['accuracy'])\n",
        "plt.plot(hist.history['val_accuracy'])\n",
        "plt.title('Model accuracy')\n",
        "plt.xlabel('Epoch')\n",
        "plt.ylabel('Accuracy')\n",
        "plt.legend(['Train', 'Validation'], loc='upper left')\n",
        "plt.show()\n",
        "\n",
        "# 7 훈련 과정 시각화 (손실)\n",
        "plt.plot(hist.history['loss'])\n",
        "plt.plot(hist.history['val_loss'])\n",
        "plt.title('Model loss')\n",
        "plt.xlabel('Epoch')\n",
        "plt.ylabel('Loss')\n",
        "plt.legend(['Train', 'Validation'], loc='upper left')\n",
        "plt.show()"
      ]
    },
    {
      "cell_type": "markdown",
      "metadata": {
        "colab_type": "text",
        "id": "dmgE4Bb6wlK5"
      },
      "source": [
        "## Convert\n"
      ]
    },
    {
      "cell_type": "markdown",
      "metadata": {
        "colab_type": "text",
        "id": "wWMo8TMpwVYO"
      },
      "source": [
        "### h5 to tflite convert\n"
      ]
    },
    {
      "cell_type": "code",
      "execution_count": 72,
      "metadata": {
        "colab": {
          "base_uri": "https://localhost:8080/",
          "height": 412
        },
        "colab_type": "code",
        "id": "Zl9XLdbfY9kg",
        "outputId": "80e732e2-ad7f-46b4-8c01-79c1ba2b74fa"
      },
      "outputs": [
        {
          "name": "stdout",
          "output_type": "stream",
          "text": [
            "INFO:tensorflow:Assets written to: /tmp/tmplolqs9qz/assets\n"
          ]
        },
        {
          "name": "stderr",
          "output_type": "stream",
          "text": [
            "INFO:tensorflow:Assets written to: /tmp/tmplolqs9qz/assets\n",
            "2022-10-21 20:06:17.623412: W tensorflow/compiler/mlir/lite/python/tf_tfl_flatbuffer_helpers.cc:357] Ignored output_format.\n",
            "2022-10-21 20:06:17.623451: W tensorflow/compiler/mlir/lite/python/tf_tfl_flatbuffer_helpers.cc:360] Ignored drop_control_dependency.\n",
            "2022-10-21 20:06:17.623650: I tensorflow/cc/saved_model/reader.cc:43] Reading SavedModel from: /tmp/tmplolqs9qz\n",
            "2022-10-21 20:06:17.649387: I tensorflow/cc/saved_model/reader.cc:78] Reading meta graph with tags { serve }\n",
            "2022-10-21 20:06:17.649429: I tensorflow/cc/saved_model/reader.cc:119] Reading SavedModel debug info (if present) from: /tmp/tmplolqs9qz\n",
            "2022-10-21 20:06:17.738334: I tensorflow/cc/saved_model/loader.cc:228] Restoring SavedModel bundle.\n",
            "2022-10-21 20:06:18.366800: I tensorflow/cc/saved_model/loader.cc:212] Running initialization op on SavedModel bundle at path: /tmp/tmplolqs9qz\n",
            "2022-10-21 20:06:18.572547: I tensorflow/cc/saved_model/loader.cc:301] SavedModel load for tags { serve }; Status: success: OK. Took 948898 microseconds.\n"
          ]
        },
        {
          "data": {
            "text/plain": [
              "8916008"
            ]
          },
          "execution_count": 72,
          "metadata": {},
          "output_type": "execute_result"
        },
        {
          "name": "stdout",
          "output_type": "stream",
          "text": [
            "time: 20.6 s (started: 2022-10-21 20:05:58 +09:00)\n"
          ]
        }
      ],
      "source": [
        "new_model= tf.keras.models.load_model(filepath=\"/home/jwjang/project_tf28/MobileNet_1.h5\")\n",
        "tflite_converter = tf.lite.TFLiteConverter.from_keras_model(new_model)\n",
        "tflite_model = tflite_converter.convert()\n",
        "open(\"MobileNet_model.tflite\", \"wb\").write(tflite_model)"
      ]
    },
    {
      "cell_type": "markdown",
      "metadata": {
        "colab_type": "text",
        "id": "Zopf4KMswKyD"
      },
      "source": [
        "### h5 to pb convert\n"
      ]
    },
    {
      "cell_type": "code",
      "execution_count": 73,
      "metadata": {
        "colab": {
          "base_uri": "https://localhost:8080/",
          "height": 181
        },
        "colab_type": "code",
        "id": "vlayKgAibFFY",
        "outputId": "312ba249-f6d1-4666-827b-7ca13e01e33c"
      },
      "outputs": [
        {
          "name": "stdout",
          "output_type": "stream",
          "text": [
            "INFO:tensorflow:Assets written to: /home/jwjang/project_tf28/assets\n"
          ]
        },
        {
          "name": "stderr",
          "output_type": "stream",
          "text": [
            "INFO:tensorflow:Assets written to: /home/jwjang/project_tf28/assets\n"
          ]
        },
        {
          "name": "stdout",
          "output_type": "stream",
          "text": [
            "time: 9.95 s (started: 2022-10-21 20:06:24 +09:00)\n"
          ]
        }
      ],
      "source": [
        "model = tf.keras.models.load_model(\"/home/jwjang/project_tf28/MobileNet_1.h5\")\n",
        "export_dir = os.getcwd()\n",
        "model.save(export_dir, save_format=\"tf\")"
      ]
    },
    {
      "cell_type": "markdown",
      "metadata": {
        "colab_type": "text",
        "id": "KIIqs1AcwOyl"
      },
      "source": [
        "### pb to tflite convert\n"
      ]
    },
    {
      "cell_type": "code",
      "execution_count": 74,
      "metadata": {
        "colab": {
          "base_uri": "https://localhost:8080/",
          "height": 35
        },
        "colab_type": "code",
        "id": "sOI_I8nBcbmd",
        "outputId": "0d572209-ee07-4626-a5ba-577373cecd99"
      },
      "outputs": [
        {
          "name": "stderr",
          "output_type": "stream",
          "text": [
            "2022-10-21 20:06:42.709822: W tensorflow/compiler/mlir/lite/python/tf_tfl_flatbuffer_helpers.cc:357] Ignored output_format.\n",
            "2022-10-21 20:06:42.709856: W tensorflow/compiler/mlir/lite/python/tf_tfl_flatbuffer_helpers.cc:360] Ignored drop_control_dependency.\n",
            "2022-10-21 20:06:42.710041: I tensorflow/cc/saved_model/reader.cc:43] Reading SavedModel from: /home/jwjang/project_tf28\n",
            "2022-10-21 20:06:42.734832: I tensorflow/cc/saved_model/reader.cc:78] Reading meta graph with tags { serve }\n",
            "2022-10-21 20:06:42.734869: I tensorflow/cc/saved_model/reader.cc:119] Reading SavedModel debug info (if present) from: /home/jwjang/project_tf28\n",
            "2022-10-21 20:06:42.806532: I tensorflow/cc/saved_model/loader.cc:228] Restoring SavedModel bundle.\n",
            "2022-10-21 20:06:43.413030: I tensorflow/cc/saved_model/loader.cc:212] Running initialization op on SavedModel bundle at path: /home/jwjang/project_tf28\n",
            "2022-10-21 20:06:43.605816: I tensorflow/cc/saved_model/loader.cc:301] SavedModel load for tags { serve }; Status: success: OK. Took 895775 microseconds.\n"
          ]
        },
        {
          "data": {
            "text/plain": [
              "8916008"
            ]
          },
          "execution_count": 74,
          "metadata": {},
          "output_type": "execute_result"
        },
        {
          "name": "stdout",
          "output_type": "stream",
          "text": [
            "time: 6.38 s (started: 2022-10-21 20:06:38 +09:00)\n"
          ]
        },
        {
          "ename": "",
          "evalue": "",
          "output_type": "error",
          "traceback": [
            "\u001b[1;31m현재 셀 또는 이전 셀에서 코드를 실행하는 동안 Kernel이 충돌했습니다. 셀의 코드를 검토하여 오류의 가능한 원인을 식별하세요. 자세한 내용을 보려면 <a href='https://aka.ms/vscodeJupyterKernelCrash'> 여기 </a> 를 클릭하세요. 자세한 내용은 Jupyter <a href='command:jupyter.viewOutput'>로그</a>를 참조하세요."
          ]
        }
      ],
      "source": [
        "saved_model_dir = os.getcwd()\n",
        "converter = tf.lite.TFLiteConverter.from_saved_model(saved_model_dir)\n",
        "converter.target_spec.supported_ops=[tf.lite.OpsSet.TFLITE_BUILTINS, tf.lite.OpsSet.SELECT_TF_OPS]\n",
        "tflite_model= converter.convert()\n",
        "open(saved_model_dir+'/model.tflite','wb').write(tflite_model)"
      ]
    },
    {
      "cell_type": "markdown",
      "metadata": {
        "colab_type": "text",
        "id": "lesBROmOwgkO"
      },
      "source": [
        "## 기타 참고할 내용"
      ]
    },
    {
      "cell_type": "code",
      "execution_count": 58,
      "metadata": {
        "colab": {},
        "colab_type": "code",
        "id": "i8ADFiSMoVc-"
      },
      "outputs": [
        {
          "ename": "NameError",
          "evalue": "name 'X_train' is not defined",
          "output_type": "error",
          "traceback": [
            "\u001b[0;31m---------------------------------------------------------------------------\u001b[0m",
            "\u001b[0;31mNameError\u001b[0m                                 Traceback (most recent call last)",
            "Cell \u001b[0;32mIn [58], line 1\u001b[0m\n\u001b[0;32m----> 1\u001b[0m hist \u001b[38;5;241m=\u001b[39m model\u001b[38;5;241m.\u001b[39mfit(X_train, Y_train, epochs\u001b[38;5;241m=\u001b[39m\u001b[38;5;241m1000\u001b[39m, batch_size\u001b[38;5;241m=\u001b[39m\u001b[38;5;241m10\u001b[39m, validation_data \u001b[38;5;241m=\u001b[39m (X_val, Y_val))\n\u001b[1;32m      3\u001b[0m \u001b[38;5;28mprint\u001b[39m(hist\u001b[38;5;241m.\u001b[39mhistory[\u001b[38;5;124m'\u001b[39m\u001b[38;5;124mloss\u001b[39m\u001b[38;5;124m'\u001b[39m])\n\u001b[1;32m      4\u001b[0m \u001b[38;5;28mprint\u001b[39m(hist\u001b[38;5;241m.\u001b[39mhistory[\u001b[38;5;124m'\u001b[39m\u001b[38;5;124macc\u001b[39m\u001b[38;5;124m'\u001b[39m])\n",
            "\u001b[0;31mNameError\u001b[0m: name 'X_train' is not defined"
          ]
        },
        {
          "name": "stdout",
          "output_type": "stream",
          "text": [
            "time: 16.7 ms (started: 2022-10-21 19:52:30 +09:00)\n"
          ]
        }
      ],
      "source": [
        "hist = model.fit(X_train, Y_train, epochs=1000, batch_size=10, validation_data = (X_val, Y_val))\n",
        "\n",
        "print(hist.history['loss'])\n",
        "print(hist.history['acc'])\n",
        "print(hist.history['val_loss'])\n",
        "print(hist.history['val_acc'])"
      ]
    }
  ],
  "metadata": {
    "colab": {
      "collapsed_sections": [],
      "name": "Keras_MobileNetV2.ipynb",
      "provenance": [],
      "toc_visible": true
    },
    "kernelspec": {
      "display_name": "Python 3.9.12 ('tf28')",
      "language": "python",
      "name": "python3"
    },
    "language_info": {
      "codemirror_mode": {
        "name": "ipython",
        "version": 3
      },
      "file_extension": ".py",
      "mimetype": "text/x-python",
      "name": "python",
      "nbconvert_exporter": "python",
      "pygments_lexer": "ipython3",
      "version": "3.9.12"
    },
    "vscode": {
      "interpreter": {
        "hash": "7487eb26713c20d4478a0ad439a8d1686a66f155cf78333d4446d2a5054d68b6"
      }
    }
  },
  "nbformat": 4,
  "nbformat_minor": 0
}
